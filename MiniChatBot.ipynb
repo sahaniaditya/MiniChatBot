{
  "cells": [
    {
      "cell_type": "code",
      "execution_count": 1,
      "id": "25a2c8c1",
      "metadata": {
        "id": "25a2c8c1"
      },
      "outputs": [],
      "source": [
        "import numpy as np\n",
        "import pandas as pd\n",
        "import matplotlib.pyplot as plt"
      ]
    },
    {
      "cell_type": "code",
      "execution_count": 2,
      "id": "9de0b1fa",
      "metadata": {
        "id": "9de0b1fa"
      },
      "outputs": [],
      "source": [
        "df = pd.read_json(\"/content/chatbot.json\")"
      ]
    },
    {
      "cell_type": "code",
      "execution_count": 3,
      "id": "52595fa2",
      "metadata": {
        "colab": {
          "base_uri": "https://localhost:8080/",
          "height": 143
        },
        "id": "52595fa2",
        "outputId": "d611483e-78d1-4778-acf2-2782d70f2d36"
      },
      "outputs": [
        {
          "output_type": "execute_result",
          "data": {
            "text/plain": [
              "                                             intents\n",
              "0  {'tag': 'greeting', 'patterns': ['Hello', 'Hi ...\n",
              "1  {'tag': 'goodbye', 'patterns': ['Goodbye', 'By...\n",
              "2  {'tag': 'name', 'patterns': ['What's your name..."
            ],
            "text/html": [
              "\n",
              "  <div id=\"df-6d4947ce-4a1f-40d9-8aba-4088091074b6\" class=\"colab-df-container\">\n",
              "    <div>\n",
              "<style scoped>\n",
              "    .dataframe tbody tr th:only-of-type {\n",
              "        vertical-align: middle;\n",
              "    }\n",
              "\n",
              "    .dataframe tbody tr th {\n",
              "        vertical-align: top;\n",
              "    }\n",
              "\n",
              "    .dataframe thead th {\n",
              "        text-align: right;\n",
              "    }\n",
              "</style>\n",
              "<table border=\"1\" class=\"dataframe\">\n",
              "  <thead>\n",
              "    <tr style=\"text-align: right;\">\n",
              "      <th></th>\n",
              "      <th>intents</th>\n",
              "    </tr>\n",
              "  </thead>\n",
              "  <tbody>\n",
              "    <tr>\n",
              "      <th>0</th>\n",
              "      <td>{'tag': 'greeting', 'patterns': ['Hello', 'Hi ...</td>\n",
              "    </tr>\n",
              "    <tr>\n",
              "      <th>1</th>\n",
              "      <td>{'tag': 'goodbye', 'patterns': ['Goodbye', 'By...</td>\n",
              "    </tr>\n",
              "    <tr>\n",
              "      <th>2</th>\n",
              "      <td>{'tag': 'name', 'patterns': ['What's your name...</td>\n",
              "    </tr>\n",
              "  </tbody>\n",
              "</table>\n",
              "</div>\n",
              "    <div class=\"colab-df-buttons\">\n",
              "\n",
              "  <div class=\"colab-df-container\">\n",
              "    <button class=\"colab-df-convert\" onclick=\"convertToInteractive('df-6d4947ce-4a1f-40d9-8aba-4088091074b6')\"\n",
              "            title=\"Convert this dataframe to an interactive table.\"\n",
              "            style=\"display:none;\">\n",
              "\n",
              "  <svg xmlns=\"http://www.w3.org/2000/svg\" height=\"24px\" viewBox=\"0 -960 960 960\">\n",
              "    <path d=\"M120-120v-720h720v720H120Zm60-500h600v-160H180v160Zm220 220h160v-160H400v160Zm0 220h160v-160H400v160ZM180-400h160v-160H180v160Zm440 0h160v-160H620v160ZM180-180h160v-160H180v160Zm440 0h160v-160H620v160Z\"/>\n",
              "  </svg>\n",
              "    </button>\n",
              "\n",
              "  <style>\n",
              "    .colab-df-container {\n",
              "      display:flex;\n",
              "      gap: 12px;\n",
              "    }\n",
              "\n",
              "    .colab-df-convert {\n",
              "      background-color: #E8F0FE;\n",
              "      border: none;\n",
              "      border-radius: 50%;\n",
              "      cursor: pointer;\n",
              "      display: none;\n",
              "      fill: #1967D2;\n",
              "      height: 32px;\n",
              "      padding: 0 0 0 0;\n",
              "      width: 32px;\n",
              "    }\n",
              "\n",
              "    .colab-df-convert:hover {\n",
              "      background-color: #E2EBFA;\n",
              "      box-shadow: 0px 1px 2px rgba(60, 64, 67, 0.3), 0px 1px 3px 1px rgba(60, 64, 67, 0.15);\n",
              "      fill: #174EA6;\n",
              "    }\n",
              "\n",
              "    .colab-df-buttons div {\n",
              "      margin-bottom: 4px;\n",
              "    }\n",
              "\n",
              "    [theme=dark] .colab-df-convert {\n",
              "      background-color: #3B4455;\n",
              "      fill: #D2E3FC;\n",
              "    }\n",
              "\n",
              "    [theme=dark] .colab-df-convert:hover {\n",
              "      background-color: #434B5C;\n",
              "      box-shadow: 0px 1px 3px 1px rgba(0, 0, 0, 0.15);\n",
              "      filter: drop-shadow(0px 1px 2px rgba(0, 0, 0, 0.3));\n",
              "      fill: #FFFFFF;\n",
              "    }\n",
              "  </style>\n",
              "\n",
              "    <script>\n",
              "      const buttonEl =\n",
              "        document.querySelector('#df-6d4947ce-4a1f-40d9-8aba-4088091074b6 button.colab-df-convert');\n",
              "      buttonEl.style.display =\n",
              "        google.colab.kernel.accessAllowed ? 'block' : 'none';\n",
              "\n",
              "      async function convertToInteractive(key) {\n",
              "        const element = document.querySelector('#df-6d4947ce-4a1f-40d9-8aba-4088091074b6');\n",
              "        const dataTable =\n",
              "          await google.colab.kernel.invokeFunction('convertToInteractive',\n",
              "                                                    [key], {});\n",
              "        if (!dataTable) return;\n",
              "\n",
              "        const docLinkHtml = 'Like what you see? Visit the ' +\n",
              "          '<a target=\"_blank\" href=https://colab.research.google.com/notebooks/data_table.ipynb>data table notebook</a>'\n",
              "          + ' to learn more about interactive tables.';\n",
              "        element.innerHTML = '';\n",
              "        dataTable['output_type'] = 'display_data';\n",
              "        await google.colab.output.renderOutput(dataTable, element);\n",
              "        const docLink = document.createElement('div');\n",
              "        docLink.innerHTML = docLinkHtml;\n",
              "        element.appendChild(docLink);\n",
              "      }\n",
              "    </script>\n",
              "  </div>\n",
              "\n",
              "\n",
              "<div id=\"df-39a25f00-d8b2-4e4c-a985-92b4a4b2adf7\">\n",
              "  <button class=\"colab-df-quickchart\" onclick=\"quickchart('df-39a25f00-d8b2-4e4c-a985-92b4a4b2adf7')\"\n",
              "            title=\"Suggest charts\"\n",
              "            style=\"display:none;\">\n",
              "\n",
              "<svg xmlns=\"http://www.w3.org/2000/svg\" height=\"24px\"viewBox=\"0 0 24 24\"\n",
              "     width=\"24px\">\n",
              "    <g>\n",
              "        <path d=\"M19 3H5c-1.1 0-2 .9-2 2v14c0 1.1.9 2 2 2h14c1.1 0 2-.9 2-2V5c0-1.1-.9-2-2-2zM9 17H7v-7h2v7zm4 0h-2V7h2v10zm4 0h-2v-4h2v4z\"/>\n",
              "    </g>\n",
              "</svg>\n",
              "  </button>\n",
              "\n",
              "<style>\n",
              "  .colab-df-quickchart {\n",
              "      --bg-color: #E8F0FE;\n",
              "      --fill-color: #1967D2;\n",
              "      --hover-bg-color: #E2EBFA;\n",
              "      --hover-fill-color: #174EA6;\n",
              "      --disabled-fill-color: #AAA;\n",
              "      --disabled-bg-color: #DDD;\n",
              "  }\n",
              "\n",
              "  [theme=dark] .colab-df-quickchart {\n",
              "      --bg-color: #3B4455;\n",
              "      --fill-color: #D2E3FC;\n",
              "      --hover-bg-color: #434B5C;\n",
              "      --hover-fill-color: #FFFFFF;\n",
              "      --disabled-bg-color: #3B4455;\n",
              "      --disabled-fill-color: #666;\n",
              "  }\n",
              "\n",
              "  .colab-df-quickchart {\n",
              "    background-color: var(--bg-color);\n",
              "    border: none;\n",
              "    border-radius: 50%;\n",
              "    cursor: pointer;\n",
              "    display: none;\n",
              "    fill: var(--fill-color);\n",
              "    height: 32px;\n",
              "    padding: 0;\n",
              "    width: 32px;\n",
              "  }\n",
              "\n",
              "  .colab-df-quickchart:hover {\n",
              "    background-color: var(--hover-bg-color);\n",
              "    box-shadow: 0 1px 2px rgba(60, 64, 67, 0.3), 0 1px 3px 1px rgba(60, 64, 67, 0.15);\n",
              "    fill: var(--button-hover-fill-color);\n",
              "  }\n",
              "\n",
              "  .colab-df-quickchart-complete:disabled,\n",
              "  .colab-df-quickchart-complete:disabled:hover {\n",
              "    background-color: var(--disabled-bg-color);\n",
              "    fill: var(--disabled-fill-color);\n",
              "    box-shadow: none;\n",
              "  }\n",
              "\n",
              "  .colab-df-spinner {\n",
              "    border: 2px solid var(--fill-color);\n",
              "    border-color: transparent;\n",
              "    border-bottom-color: var(--fill-color);\n",
              "    animation:\n",
              "      spin 1s steps(1) infinite;\n",
              "  }\n",
              "\n",
              "  @keyframes spin {\n",
              "    0% {\n",
              "      border-color: transparent;\n",
              "      border-bottom-color: var(--fill-color);\n",
              "      border-left-color: var(--fill-color);\n",
              "    }\n",
              "    20% {\n",
              "      border-color: transparent;\n",
              "      border-left-color: var(--fill-color);\n",
              "      border-top-color: var(--fill-color);\n",
              "    }\n",
              "    30% {\n",
              "      border-color: transparent;\n",
              "      border-left-color: var(--fill-color);\n",
              "      border-top-color: var(--fill-color);\n",
              "      border-right-color: var(--fill-color);\n",
              "    }\n",
              "    40% {\n",
              "      border-color: transparent;\n",
              "      border-right-color: var(--fill-color);\n",
              "      border-top-color: var(--fill-color);\n",
              "    }\n",
              "    60% {\n",
              "      border-color: transparent;\n",
              "      border-right-color: var(--fill-color);\n",
              "    }\n",
              "    80% {\n",
              "      border-color: transparent;\n",
              "      border-right-color: var(--fill-color);\n",
              "      border-bottom-color: var(--fill-color);\n",
              "    }\n",
              "    90% {\n",
              "      border-color: transparent;\n",
              "      border-bottom-color: var(--fill-color);\n",
              "    }\n",
              "  }\n",
              "</style>\n",
              "\n",
              "  <script>\n",
              "    async function quickchart(key) {\n",
              "      const quickchartButtonEl =\n",
              "        document.querySelector('#' + key + ' button');\n",
              "      quickchartButtonEl.disabled = true;  // To prevent multiple clicks.\n",
              "      quickchartButtonEl.classList.add('colab-df-spinner');\n",
              "      try {\n",
              "        const charts = await google.colab.kernel.invokeFunction(\n",
              "            'suggestCharts', [key], {});\n",
              "      } catch (error) {\n",
              "        console.error('Error during call to suggestCharts:', error);\n",
              "      }\n",
              "      quickchartButtonEl.classList.remove('colab-df-spinner');\n",
              "      quickchartButtonEl.classList.add('colab-df-quickchart-complete');\n",
              "    }\n",
              "    (() => {\n",
              "      let quickchartButtonEl =\n",
              "        document.querySelector('#df-39a25f00-d8b2-4e4c-a985-92b4a4b2adf7 button');\n",
              "      quickchartButtonEl.style.display =\n",
              "        google.colab.kernel.accessAllowed ? 'block' : 'none';\n",
              "    })();\n",
              "  </script>\n",
              "</div>\n",
              "    </div>\n",
              "  </div>\n"
            ],
            "application/vnd.google.colaboratory.intrinsic+json": {
              "type": "dataframe",
              "variable_name": "df",
              "summary": "{\n  \"name\": \"df\",\n  \"rows\": 3,\n  \"fields\": [\n    {\n      \"column\": \"intents\",\n      \"properties\": {\n        \"dtype\": \"object\",\n        \"semantic_type\": \"\",\n        \"description\": \"\"\n      }\n    }\n  ]\n}"
            }
          },
          "metadata": {},
          "execution_count": 3
        }
      ],
      "source": [
        "df.head()"
      ]
    },
    {
      "cell_type": "code",
      "source": [
        "data_dict = {\n",
        "      \"tag\" : [],\n",
        "      \"patterns\" : [],\n",
        "      \"responses\" : []\n",
        "  }\n",
        "def createDataframe():\n",
        "  for index, data in df.iterrows():\n",
        "    dic = data.to_dict()\n",
        "    # print(index,dic[\"intents\"])\n",
        "    new_dic = dic[\"intents\"]\n",
        "    for key, data in new_dic.items():\n",
        "      if key != \"context_set\":\n",
        "        data_dict[key].append(data)\n"
      ],
      "metadata": {
        "id": "9vPbqwa1gnvj"
      },
      "id": "9vPbqwa1gnvj",
      "execution_count": 4,
      "outputs": []
    },
    {
      "cell_type": "code",
      "execution_count": 5,
      "id": "b5d7cb8e",
      "metadata": {
        "id": "b5d7cb8e"
      },
      "outputs": [],
      "source": [
        "createDataframe()"
      ]
    },
    {
      "cell_type": "code",
      "source": [
        "df1 = pd.DataFrame(data_dict, columns=[\"tag\", \"patterns\" ,\"responses\"])"
      ],
      "metadata": {
        "id": "FPUir6cXi0Pz"
      },
      "id": "FPUir6cXi0Pz",
      "execution_count": 6,
      "outputs": []
    },
    {
      "cell_type": "code",
      "source": [
        "df1.shape"
      ],
      "metadata": {
        "colab": {
          "base_uri": "https://localhost:8080/"
        },
        "id": "1tbIInDfjcB9",
        "outputId": "76ecb309-e23f-48a5-d0f8-ec7f308682db"
      },
      "id": "1tbIInDfjcB9",
      "execution_count": 7,
      "outputs": [
        {
          "output_type": "execute_result",
          "data": {
            "text/plain": [
              "(3, 3)"
            ]
          },
          "metadata": {},
          "execution_count": 7
        }
      ]
    },
    {
      "cell_type": "code",
      "execution_count": 8,
      "id": "c1856315",
      "metadata": {
        "colab": {
          "base_uri": "https://localhost:8080/",
          "height": 143
        },
        "id": "c1856315",
        "outputId": "caa6945c-c498-49e6-ba9b-5024901e44eb"
      },
      "outputs": [
        {
          "output_type": "execute_result",
          "data": {
            "text/plain": [
              "        tag                                           patterns  \\\n",
              "0  greeting  [Hello, Hi there, Hey, Greetings, Good morning...   \n",
              "1   goodbye  [Goodbye, Bye, See you later, Take care, Farew...   \n",
              "2      name  [What's your name?, May I ask your name?, Coul...   \n",
              "\n",
              "                                           responses  \n",
              "0  [Hey!, Hi!, Hello there!, Good morning to you ...  \n",
              "1  [Goodbye!, Bye!, See you later!, Take care!, F...  \n",
              "2  [My name is Nezuko., You can call me Nezuko., ...  "
            ],
            "text/html": [
              "\n",
              "  <div id=\"df-e72f18d8-61da-4475-ad3c-31d717a20153\" class=\"colab-df-container\">\n",
              "    <div>\n",
              "<style scoped>\n",
              "    .dataframe tbody tr th:only-of-type {\n",
              "        vertical-align: middle;\n",
              "    }\n",
              "\n",
              "    .dataframe tbody tr th {\n",
              "        vertical-align: top;\n",
              "    }\n",
              "\n",
              "    .dataframe thead th {\n",
              "        text-align: right;\n",
              "    }\n",
              "</style>\n",
              "<table border=\"1\" class=\"dataframe\">\n",
              "  <thead>\n",
              "    <tr style=\"text-align: right;\">\n",
              "      <th></th>\n",
              "      <th>tag</th>\n",
              "      <th>patterns</th>\n",
              "      <th>responses</th>\n",
              "    </tr>\n",
              "  </thead>\n",
              "  <tbody>\n",
              "    <tr>\n",
              "      <th>0</th>\n",
              "      <td>greeting</td>\n",
              "      <td>[Hello, Hi there, Hey, Greetings, Good morning...</td>\n",
              "      <td>[Hey!, Hi!, Hello there!, Good morning to you ...</td>\n",
              "    </tr>\n",
              "    <tr>\n",
              "      <th>1</th>\n",
              "      <td>goodbye</td>\n",
              "      <td>[Goodbye, Bye, See you later, Take care, Farew...</td>\n",
              "      <td>[Goodbye!, Bye!, See you later!, Take care!, F...</td>\n",
              "    </tr>\n",
              "    <tr>\n",
              "      <th>2</th>\n",
              "      <td>name</td>\n",
              "      <td>[What's your name?, May I ask your name?, Coul...</td>\n",
              "      <td>[My name is Nezuko., You can call me Nezuko., ...</td>\n",
              "    </tr>\n",
              "  </tbody>\n",
              "</table>\n",
              "</div>\n",
              "    <div class=\"colab-df-buttons\">\n",
              "\n",
              "  <div class=\"colab-df-container\">\n",
              "    <button class=\"colab-df-convert\" onclick=\"convertToInteractive('df-e72f18d8-61da-4475-ad3c-31d717a20153')\"\n",
              "            title=\"Convert this dataframe to an interactive table.\"\n",
              "            style=\"display:none;\">\n",
              "\n",
              "  <svg xmlns=\"http://www.w3.org/2000/svg\" height=\"24px\" viewBox=\"0 -960 960 960\">\n",
              "    <path d=\"M120-120v-720h720v720H120Zm60-500h600v-160H180v160Zm220 220h160v-160H400v160Zm0 220h160v-160H400v160ZM180-400h160v-160H180v160Zm440 0h160v-160H620v160ZM180-180h160v-160H180v160Zm440 0h160v-160H620v160Z\"/>\n",
              "  </svg>\n",
              "    </button>\n",
              "\n",
              "  <style>\n",
              "    .colab-df-container {\n",
              "      display:flex;\n",
              "      gap: 12px;\n",
              "    }\n",
              "\n",
              "    .colab-df-convert {\n",
              "      background-color: #E8F0FE;\n",
              "      border: none;\n",
              "      border-radius: 50%;\n",
              "      cursor: pointer;\n",
              "      display: none;\n",
              "      fill: #1967D2;\n",
              "      height: 32px;\n",
              "      padding: 0 0 0 0;\n",
              "      width: 32px;\n",
              "    }\n",
              "\n",
              "    .colab-df-convert:hover {\n",
              "      background-color: #E2EBFA;\n",
              "      box-shadow: 0px 1px 2px rgba(60, 64, 67, 0.3), 0px 1px 3px 1px rgba(60, 64, 67, 0.15);\n",
              "      fill: #174EA6;\n",
              "    }\n",
              "\n",
              "    .colab-df-buttons div {\n",
              "      margin-bottom: 4px;\n",
              "    }\n",
              "\n",
              "    [theme=dark] .colab-df-convert {\n",
              "      background-color: #3B4455;\n",
              "      fill: #D2E3FC;\n",
              "    }\n",
              "\n",
              "    [theme=dark] .colab-df-convert:hover {\n",
              "      background-color: #434B5C;\n",
              "      box-shadow: 0px 1px 3px 1px rgba(0, 0, 0, 0.15);\n",
              "      filter: drop-shadow(0px 1px 2px rgba(0, 0, 0, 0.3));\n",
              "      fill: #FFFFFF;\n",
              "    }\n",
              "  </style>\n",
              "\n",
              "    <script>\n",
              "      const buttonEl =\n",
              "        document.querySelector('#df-e72f18d8-61da-4475-ad3c-31d717a20153 button.colab-df-convert');\n",
              "      buttonEl.style.display =\n",
              "        google.colab.kernel.accessAllowed ? 'block' : 'none';\n",
              "\n",
              "      async function convertToInteractive(key) {\n",
              "        const element = document.querySelector('#df-e72f18d8-61da-4475-ad3c-31d717a20153');\n",
              "        const dataTable =\n",
              "          await google.colab.kernel.invokeFunction('convertToInteractive',\n",
              "                                                    [key], {});\n",
              "        if (!dataTable) return;\n",
              "\n",
              "        const docLinkHtml = 'Like what you see? Visit the ' +\n",
              "          '<a target=\"_blank\" href=https://colab.research.google.com/notebooks/data_table.ipynb>data table notebook</a>'\n",
              "          + ' to learn more about interactive tables.';\n",
              "        element.innerHTML = '';\n",
              "        dataTable['output_type'] = 'display_data';\n",
              "        await google.colab.output.renderOutput(dataTable, element);\n",
              "        const docLink = document.createElement('div');\n",
              "        docLink.innerHTML = docLinkHtml;\n",
              "        element.appendChild(docLink);\n",
              "      }\n",
              "    </script>\n",
              "  </div>\n",
              "\n",
              "\n",
              "<div id=\"df-9c2edf07-115b-41da-a78e-3ca2e170aa17\">\n",
              "  <button class=\"colab-df-quickchart\" onclick=\"quickchart('df-9c2edf07-115b-41da-a78e-3ca2e170aa17')\"\n",
              "            title=\"Suggest charts\"\n",
              "            style=\"display:none;\">\n",
              "\n",
              "<svg xmlns=\"http://www.w3.org/2000/svg\" height=\"24px\"viewBox=\"0 0 24 24\"\n",
              "     width=\"24px\">\n",
              "    <g>\n",
              "        <path d=\"M19 3H5c-1.1 0-2 .9-2 2v14c0 1.1.9 2 2 2h14c1.1 0 2-.9 2-2V5c0-1.1-.9-2-2-2zM9 17H7v-7h2v7zm4 0h-2V7h2v10zm4 0h-2v-4h2v4z\"/>\n",
              "    </g>\n",
              "</svg>\n",
              "  </button>\n",
              "\n",
              "<style>\n",
              "  .colab-df-quickchart {\n",
              "      --bg-color: #E8F0FE;\n",
              "      --fill-color: #1967D2;\n",
              "      --hover-bg-color: #E2EBFA;\n",
              "      --hover-fill-color: #174EA6;\n",
              "      --disabled-fill-color: #AAA;\n",
              "      --disabled-bg-color: #DDD;\n",
              "  }\n",
              "\n",
              "  [theme=dark] .colab-df-quickchart {\n",
              "      --bg-color: #3B4455;\n",
              "      --fill-color: #D2E3FC;\n",
              "      --hover-bg-color: #434B5C;\n",
              "      --hover-fill-color: #FFFFFF;\n",
              "      --disabled-bg-color: #3B4455;\n",
              "      --disabled-fill-color: #666;\n",
              "  }\n",
              "\n",
              "  .colab-df-quickchart {\n",
              "    background-color: var(--bg-color);\n",
              "    border: none;\n",
              "    border-radius: 50%;\n",
              "    cursor: pointer;\n",
              "    display: none;\n",
              "    fill: var(--fill-color);\n",
              "    height: 32px;\n",
              "    padding: 0;\n",
              "    width: 32px;\n",
              "  }\n",
              "\n",
              "  .colab-df-quickchart:hover {\n",
              "    background-color: var(--hover-bg-color);\n",
              "    box-shadow: 0 1px 2px rgba(60, 64, 67, 0.3), 0 1px 3px 1px rgba(60, 64, 67, 0.15);\n",
              "    fill: var(--button-hover-fill-color);\n",
              "  }\n",
              "\n",
              "  .colab-df-quickchart-complete:disabled,\n",
              "  .colab-df-quickchart-complete:disabled:hover {\n",
              "    background-color: var(--disabled-bg-color);\n",
              "    fill: var(--disabled-fill-color);\n",
              "    box-shadow: none;\n",
              "  }\n",
              "\n",
              "  .colab-df-spinner {\n",
              "    border: 2px solid var(--fill-color);\n",
              "    border-color: transparent;\n",
              "    border-bottom-color: var(--fill-color);\n",
              "    animation:\n",
              "      spin 1s steps(1) infinite;\n",
              "  }\n",
              "\n",
              "  @keyframes spin {\n",
              "    0% {\n",
              "      border-color: transparent;\n",
              "      border-bottom-color: var(--fill-color);\n",
              "      border-left-color: var(--fill-color);\n",
              "    }\n",
              "    20% {\n",
              "      border-color: transparent;\n",
              "      border-left-color: var(--fill-color);\n",
              "      border-top-color: var(--fill-color);\n",
              "    }\n",
              "    30% {\n",
              "      border-color: transparent;\n",
              "      border-left-color: var(--fill-color);\n",
              "      border-top-color: var(--fill-color);\n",
              "      border-right-color: var(--fill-color);\n",
              "    }\n",
              "    40% {\n",
              "      border-color: transparent;\n",
              "      border-right-color: var(--fill-color);\n",
              "      border-top-color: var(--fill-color);\n",
              "    }\n",
              "    60% {\n",
              "      border-color: transparent;\n",
              "      border-right-color: var(--fill-color);\n",
              "    }\n",
              "    80% {\n",
              "      border-color: transparent;\n",
              "      border-right-color: var(--fill-color);\n",
              "      border-bottom-color: var(--fill-color);\n",
              "    }\n",
              "    90% {\n",
              "      border-color: transparent;\n",
              "      border-bottom-color: var(--fill-color);\n",
              "    }\n",
              "  }\n",
              "</style>\n",
              "\n",
              "  <script>\n",
              "    async function quickchart(key) {\n",
              "      const quickchartButtonEl =\n",
              "        document.querySelector('#' + key + ' button');\n",
              "      quickchartButtonEl.disabled = true;  // To prevent multiple clicks.\n",
              "      quickchartButtonEl.classList.add('colab-df-spinner');\n",
              "      try {\n",
              "        const charts = await google.colab.kernel.invokeFunction(\n",
              "            'suggestCharts', [key], {});\n",
              "      } catch (error) {\n",
              "        console.error('Error during call to suggestCharts:', error);\n",
              "      }\n",
              "      quickchartButtonEl.classList.remove('colab-df-spinner');\n",
              "      quickchartButtonEl.classList.add('colab-df-quickchart-complete');\n",
              "    }\n",
              "    (() => {\n",
              "      let quickchartButtonEl =\n",
              "        document.querySelector('#df-9c2edf07-115b-41da-a78e-3ca2e170aa17 button');\n",
              "      quickchartButtonEl.style.display =\n",
              "        google.colab.kernel.accessAllowed ? 'block' : 'none';\n",
              "    })();\n",
              "  </script>\n",
              "</div>\n",
              "    </div>\n",
              "  </div>\n"
            ],
            "application/vnd.google.colaboratory.intrinsic+json": {
              "type": "dataframe",
              "variable_name": "df1",
              "summary": "{\n  \"name\": \"df1\",\n  \"rows\": 3,\n  \"fields\": [\n    {\n      \"column\": \"tag\",\n      \"properties\": {\n        \"dtype\": \"string\",\n        \"num_unique_values\": 3,\n        \"samples\": [\n          \"greeting\",\n          \"goodbye\",\n          \"name\"\n        ],\n        \"semantic_type\": \"\",\n        \"description\": \"\"\n      }\n    },\n    {\n      \"column\": \"patterns\",\n      \"properties\": {\n        \"dtype\": \"object\",\n        \"semantic_type\": \"\",\n        \"description\": \"\"\n      }\n    },\n    {\n      \"column\": \"responses\",\n      \"properties\": {\n        \"dtype\": \"object\",\n        \"semantic_type\": \"\",\n        \"description\": \"\"\n      }\n    }\n  ]\n}"
            }
          },
          "metadata": {},
          "execution_count": 8
        }
      ],
      "source": [
        "df1.head()"
      ]
    },
    {
      "cell_type": "code",
      "execution_count": 9,
      "id": "fb3ce93d",
      "metadata": {
        "id": "fb3ce93d"
      },
      "outputs": [],
      "source": [
        "df2 = df1.drop(columns=[\"responses\"])"
      ]
    },
    {
      "cell_type": "code",
      "execution_count": 10,
      "id": "446d9fc4",
      "metadata": {
        "colab": {
          "base_uri": "https://localhost:8080/",
          "height": 143
        },
        "id": "446d9fc4",
        "outputId": "c0e341d7-5c8a-490c-b75f-aa92d4f95859"
      },
      "outputs": [
        {
          "output_type": "execute_result",
          "data": {
            "text/plain": [
              "        tag                                           patterns\n",
              "0  greeting  [Hello, Hi there, Hey, Greetings, Good morning...\n",
              "1   goodbye  [Goodbye, Bye, See you later, Take care, Farew...\n",
              "2      name  [What's your name?, May I ask your name?, Coul..."
            ],
            "text/html": [
              "\n",
              "  <div id=\"df-2996333f-d9a9-4fd1-ad8b-b59e99b28928\" class=\"colab-df-container\">\n",
              "    <div>\n",
              "<style scoped>\n",
              "    .dataframe tbody tr th:only-of-type {\n",
              "        vertical-align: middle;\n",
              "    }\n",
              "\n",
              "    .dataframe tbody tr th {\n",
              "        vertical-align: top;\n",
              "    }\n",
              "\n",
              "    .dataframe thead th {\n",
              "        text-align: right;\n",
              "    }\n",
              "</style>\n",
              "<table border=\"1\" class=\"dataframe\">\n",
              "  <thead>\n",
              "    <tr style=\"text-align: right;\">\n",
              "      <th></th>\n",
              "      <th>tag</th>\n",
              "      <th>patterns</th>\n",
              "    </tr>\n",
              "  </thead>\n",
              "  <tbody>\n",
              "    <tr>\n",
              "      <th>0</th>\n",
              "      <td>greeting</td>\n",
              "      <td>[Hello, Hi there, Hey, Greetings, Good morning...</td>\n",
              "    </tr>\n",
              "    <tr>\n",
              "      <th>1</th>\n",
              "      <td>goodbye</td>\n",
              "      <td>[Goodbye, Bye, See you later, Take care, Farew...</td>\n",
              "    </tr>\n",
              "    <tr>\n",
              "      <th>2</th>\n",
              "      <td>name</td>\n",
              "      <td>[What's your name?, May I ask your name?, Coul...</td>\n",
              "    </tr>\n",
              "  </tbody>\n",
              "</table>\n",
              "</div>\n",
              "    <div class=\"colab-df-buttons\">\n",
              "\n",
              "  <div class=\"colab-df-container\">\n",
              "    <button class=\"colab-df-convert\" onclick=\"convertToInteractive('df-2996333f-d9a9-4fd1-ad8b-b59e99b28928')\"\n",
              "            title=\"Convert this dataframe to an interactive table.\"\n",
              "            style=\"display:none;\">\n",
              "\n",
              "  <svg xmlns=\"http://www.w3.org/2000/svg\" height=\"24px\" viewBox=\"0 -960 960 960\">\n",
              "    <path d=\"M120-120v-720h720v720H120Zm60-500h600v-160H180v160Zm220 220h160v-160H400v160Zm0 220h160v-160H400v160ZM180-400h160v-160H180v160Zm440 0h160v-160H620v160ZM180-180h160v-160H180v160Zm440 0h160v-160H620v160Z\"/>\n",
              "  </svg>\n",
              "    </button>\n",
              "\n",
              "  <style>\n",
              "    .colab-df-container {\n",
              "      display:flex;\n",
              "      gap: 12px;\n",
              "    }\n",
              "\n",
              "    .colab-df-convert {\n",
              "      background-color: #E8F0FE;\n",
              "      border: none;\n",
              "      border-radius: 50%;\n",
              "      cursor: pointer;\n",
              "      display: none;\n",
              "      fill: #1967D2;\n",
              "      height: 32px;\n",
              "      padding: 0 0 0 0;\n",
              "      width: 32px;\n",
              "    }\n",
              "\n",
              "    .colab-df-convert:hover {\n",
              "      background-color: #E2EBFA;\n",
              "      box-shadow: 0px 1px 2px rgba(60, 64, 67, 0.3), 0px 1px 3px 1px rgba(60, 64, 67, 0.15);\n",
              "      fill: #174EA6;\n",
              "    }\n",
              "\n",
              "    .colab-df-buttons div {\n",
              "      margin-bottom: 4px;\n",
              "    }\n",
              "\n",
              "    [theme=dark] .colab-df-convert {\n",
              "      background-color: #3B4455;\n",
              "      fill: #D2E3FC;\n",
              "    }\n",
              "\n",
              "    [theme=dark] .colab-df-convert:hover {\n",
              "      background-color: #434B5C;\n",
              "      box-shadow: 0px 1px 3px 1px rgba(0, 0, 0, 0.15);\n",
              "      filter: drop-shadow(0px 1px 2px rgba(0, 0, 0, 0.3));\n",
              "      fill: #FFFFFF;\n",
              "    }\n",
              "  </style>\n",
              "\n",
              "    <script>\n",
              "      const buttonEl =\n",
              "        document.querySelector('#df-2996333f-d9a9-4fd1-ad8b-b59e99b28928 button.colab-df-convert');\n",
              "      buttonEl.style.display =\n",
              "        google.colab.kernel.accessAllowed ? 'block' : 'none';\n",
              "\n",
              "      async function convertToInteractive(key) {\n",
              "        const element = document.querySelector('#df-2996333f-d9a9-4fd1-ad8b-b59e99b28928');\n",
              "        const dataTable =\n",
              "          await google.colab.kernel.invokeFunction('convertToInteractive',\n",
              "                                                    [key], {});\n",
              "        if (!dataTable) return;\n",
              "\n",
              "        const docLinkHtml = 'Like what you see? Visit the ' +\n",
              "          '<a target=\"_blank\" href=https://colab.research.google.com/notebooks/data_table.ipynb>data table notebook</a>'\n",
              "          + ' to learn more about interactive tables.';\n",
              "        element.innerHTML = '';\n",
              "        dataTable['output_type'] = 'display_data';\n",
              "        await google.colab.output.renderOutput(dataTable, element);\n",
              "        const docLink = document.createElement('div');\n",
              "        docLink.innerHTML = docLinkHtml;\n",
              "        element.appendChild(docLink);\n",
              "      }\n",
              "    </script>\n",
              "  </div>\n",
              "\n",
              "\n",
              "<div id=\"df-f4e7ce4a-590d-41f4-b631-2761e7f82e68\">\n",
              "  <button class=\"colab-df-quickchart\" onclick=\"quickchart('df-f4e7ce4a-590d-41f4-b631-2761e7f82e68')\"\n",
              "            title=\"Suggest charts\"\n",
              "            style=\"display:none;\">\n",
              "\n",
              "<svg xmlns=\"http://www.w3.org/2000/svg\" height=\"24px\"viewBox=\"0 0 24 24\"\n",
              "     width=\"24px\">\n",
              "    <g>\n",
              "        <path d=\"M19 3H5c-1.1 0-2 .9-2 2v14c0 1.1.9 2 2 2h14c1.1 0 2-.9 2-2V5c0-1.1-.9-2-2-2zM9 17H7v-7h2v7zm4 0h-2V7h2v10zm4 0h-2v-4h2v4z\"/>\n",
              "    </g>\n",
              "</svg>\n",
              "  </button>\n",
              "\n",
              "<style>\n",
              "  .colab-df-quickchart {\n",
              "      --bg-color: #E8F0FE;\n",
              "      --fill-color: #1967D2;\n",
              "      --hover-bg-color: #E2EBFA;\n",
              "      --hover-fill-color: #174EA6;\n",
              "      --disabled-fill-color: #AAA;\n",
              "      --disabled-bg-color: #DDD;\n",
              "  }\n",
              "\n",
              "  [theme=dark] .colab-df-quickchart {\n",
              "      --bg-color: #3B4455;\n",
              "      --fill-color: #D2E3FC;\n",
              "      --hover-bg-color: #434B5C;\n",
              "      --hover-fill-color: #FFFFFF;\n",
              "      --disabled-bg-color: #3B4455;\n",
              "      --disabled-fill-color: #666;\n",
              "  }\n",
              "\n",
              "  .colab-df-quickchart {\n",
              "    background-color: var(--bg-color);\n",
              "    border: none;\n",
              "    border-radius: 50%;\n",
              "    cursor: pointer;\n",
              "    display: none;\n",
              "    fill: var(--fill-color);\n",
              "    height: 32px;\n",
              "    padding: 0;\n",
              "    width: 32px;\n",
              "  }\n",
              "\n",
              "  .colab-df-quickchart:hover {\n",
              "    background-color: var(--hover-bg-color);\n",
              "    box-shadow: 0 1px 2px rgba(60, 64, 67, 0.3), 0 1px 3px 1px rgba(60, 64, 67, 0.15);\n",
              "    fill: var(--button-hover-fill-color);\n",
              "  }\n",
              "\n",
              "  .colab-df-quickchart-complete:disabled,\n",
              "  .colab-df-quickchart-complete:disabled:hover {\n",
              "    background-color: var(--disabled-bg-color);\n",
              "    fill: var(--disabled-fill-color);\n",
              "    box-shadow: none;\n",
              "  }\n",
              "\n",
              "  .colab-df-spinner {\n",
              "    border: 2px solid var(--fill-color);\n",
              "    border-color: transparent;\n",
              "    border-bottom-color: var(--fill-color);\n",
              "    animation:\n",
              "      spin 1s steps(1) infinite;\n",
              "  }\n",
              "\n",
              "  @keyframes spin {\n",
              "    0% {\n",
              "      border-color: transparent;\n",
              "      border-bottom-color: var(--fill-color);\n",
              "      border-left-color: var(--fill-color);\n",
              "    }\n",
              "    20% {\n",
              "      border-color: transparent;\n",
              "      border-left-color: var(--fill-color);\n",
              "      border-top-color: var(--fill-color);\n",
              "    }\n",
              "    30% {\n",
              "      border-color: transparent;\n",
              "      border-left-color: var(--fill-color);\n",
              "      border-top-color: var(--fill-color);\n",
              "      border-right-color: var(--fill-color);\n",
              "    }\n",
              "    40% {\n",
              "      border-color: transparent;\n",
              "      border-right-color: var(--fill-color);\n",
              "      border-top-color: var(--fill-color);\n",
              "    }\n",
              "    60% {\n",
              "      border-color: transparent;\n",
              "      border-right-color: var(--fill-color);\n",
              "    }\n",
              "    80% {\n",
              "      border-color: transparent;\n",
              "      border-right-color: var(--fill-color);\n",
              "      border-bottom-color: var(--fill-color);\n",
              "    }\n",
              "    90% {\n",
              "      border-color: transparent;\n",
              "      border-bottom-color: var(--fill-color);\n",
              "    }\n",
              "  }\n",
              "</style>\n",
              "\n",
              "  <script>\n",
              "    async function quickchart(key) {\n",
              "      const quickchartButtonEl =\n",
              "        document.querySelector('#' + key + ' button');\n",
              "      quickchartButtonEl.disabled = true;  // To prevent multiple clicks.\n",
              "      quickchartButtonEl.classList.add('colab-df-spinner');\n",
              "      try {\n",
              "        const charts = await google.colab.kernel.invokeFunction(\n",
              "            'suggestCharts', [key], {});\n",
              "      } catch (error) {\n",
              "        console.error('Error during call to suggestCharts:', error);\n",
              "      }\n",
              "      quickchartButtonEl.classList.remove('colab-df-spinner');\n",
              "      quickchartButtonEl.classList.add('colab-df-quickchart-complete');\n",
              "    }\n",
              "    (() => {\n",
              "      let quickchartButtonEl =\n",
              "        document.querySelector('#df-f4e7ce4a-590d-41f4-b631-2761e7f82e68 button');\n",
              "      quickchartButtonEl.style.display =\n",
              "        google.colab.kernel.accessAllowed ? 'block' : 'none';\n",
              "    })();\n",
              "  </script>\n",
              "</div>\n",
              "    </div>\n",
              "  </div>\n"
            ],
            "application/vnd.google.colaboratory.intrinsic+json": {
              "type": "dataframe",
              "variable_name": "df2",
              "summary": "{\n  \"name\": \"df2\",\n  \"rows\": 3,\n  \"fields\": [\n    {\n      \"column\": \"tag\",\n      \"properties\": {\n        \"dtype\": \"string\",\n        \"num_unique_values\": 3,\n        \"samples\": [\n          \"greeting\",\n          \"goodbye\",\n          \"name\"\n        ],\n        \"semantic_type\": \"\",\n        \"description\": \"\"\n      }\n    },\n    {\n      \"column\": \"patterns\",\n      \"properties\": {\n        \"dtype\": \"object\",\n        \"semantic_type\": \"\",\n        \"description\": \"\"\n      }\n    }\n  ]\n}"
            }
          },
          "metadata": {},
          "execution_count": 10
        }
      ],
      "source": [
        "df2"
      ]
    },
    {
      "cell_type": "code",
      "source": [
        "final_dict = {\n",
        "    \"tag\" :[],\n",
        "    \"patterns\" : []\n",
        "}\n",
        "for index, value in df2.iterrows():\n",
        "  tag = value[0]\n",
        "  patterns = value[1]\n",
        "\n",
        "  for i in patterns:\n",
        "    final_dict[\"tag\"].append(tag)\n",
        "    final_dict[\"patterns\"].append(i)\n",
        "\n"
      ],
      "metadata": {
        "id": "XEJjBXoBkRzK"
      },
      "id": "XEJjBXoBkRzK",
      "execution_count": 11,
      "outputs": []
    },
    {
      "cell_type": "code",
      "execution_count": 12,
      "id": "7499f435-11fc-444f-aef9-e5a8af33e7d2",
      "metadata": {
        "id": "7499f435-11fc-444f-aef9-e5a8af33e7d2"
      },
      "outputs": [],
      "source": [
        "df3 = pd.DataFrame(final_dict, columns=[\"tag\" ,\"patterns\"])"
      ]
    },
    {
      "cell_type": "code",
      "execution_count": 13,
      "id": "76b043fd-e46e-415e-af9f-9a5756368864",
      "metadata": {
        "colab": {
          "base_uri": "https://localhost:8080/",
          "height": 423
        },
        "id": "76b043fd-e46e-415e-af9f-9a5756368864",
        "outputId": "7410f4bb-d114-446c-83fe-92d7346d3eab"
      },
      "outputs": [
        {
          "output_type": "execute_result",
          "data": {
            "text/plain": [
              "          tag                                           patterns\n",
              "0    greeting                                              Hello\n",
              "1    greeting                                           Hi there\n",
              "2    greeting                                                Hey\n",
              "3    greeting                                          Greetings\n",
              "4    greeting                                       Good morning\n",
              "..        ...                                                ...\n",
              "167      name                      May I know your name, please?\n",
              "168      name                           Hi! Can I get your name?\n",
              "169      name  Before we continue, would you mind sharing you...\n",
              "170      name  Hey, I'm interested to know your name. Can you...\n",
              "171      name              Hello! I'm [Your Name]. What's yours?\n",
              "\n",
              "[172 rows x 2 columns]"
            ],
            "text/html": [
              "\n",
              "  <div id=\"df-e5088c64-dba8-4fb4-a951-ea4485049082\" class=\"colab-df-container\">\n",
              "    <div>\n",
              "<style scoped>\n",
              "    .dataframe tbody tr th:only-of-type {\n",
              "        vertical-align: middle;\n",
              "    }\n",
              "\n",
              "    .dataframe tbody tr th {\n",
              "        vertical-align: top;\n",
              "    }\n",
              "\n",
              "    .dataframe thead th {\n",
              "        text-align: right;\n",
              "    }\n",
              "</style>\n",
              "<table border=\"1\" class=\"dataframe\">\n",
              "  <thead>\n",
              "    <tr style=\"text-align: right;\">\n",
              "      <th></th>\n",
              "      <th>tag</th>\n",
              "      <th>patterns</th>\n",
              "    </tr>\n",
              "  </thead>\n",
              "  <tbody>\n",
              "    <tr>\n",
              "      <th>0</th>\n",
              "      <td>greeting</td>\n",
              "      <td>Hello</td>\n",
              "    </tr>\n",
              "    <tr>\n",
              "      <th>1</th>\n",
              "      <td>greeting</td>\n",
              "      <td>Hi there</td>\n",
              "    </tr>\n",
              "    <tr>\n",
              "      <th>2</th>\n",
              "      <td>greeting</td>\n",
              "      <td>Hey</td>\n",
              "    </tr>\n",
              "    <tr>\n",
              "      <th>3</th>\n",
              "      <td>greeting</td>\n",
              "      <td>Greetings</td>\n",
              "    </tr>\n",
              "    <tr>\n",
              "      <th>4</th>\n",
              "      <td>greeting</td>\n",
              "      <td>Good morning</td>\n",
              "    </tr>\n",
              "    <tr>\n",
              "      <th>...</th>\n",
              "      <td>...</td>\n",
              "      <td>...</td>\n",
              "    </tr>\n",
              "    <tr>\n",
              "      <th>167</th>\n",
              "      <td>name</td>\n",
              "      <td>May I know your name, please?</td>\n",
              "    </tr>\n",
              "    <tr>\n",
              "      <th>168</th>\n",
              "      <td>name</td>\n",
              "      <td>Hi! Can I get your name?</td>\n",
              "    </tr>\n",
              "    <tr>\n",
              "      <th>169</th>\n",
              "      <td>name</td>\n",
              "      <td>Before we continue, would you mind sharing you...</td>\n",
              "    </tr>\n",
              "    <tr>\n",
              "      <th>170</th>\n",
              "      <td>name</td>\n",
              "      <td>Hey, I'm interested to know your name. Can you...</td>\n",
              "    </tr>\n",
              "    <tr>\n",
              "      <th>171</th>\n",
              "      <td>name</td>\n",
              "      <td>Hello! I'm [Your Name]. What's yours?</td>\n",
              "    </tr>\n",
              "  </tbody>\n",
              "</table>\n",
              "<p>172 rows × 2 columns</p>\n",
              "</div>\n",
              "    <div class=\"colab-df-buttons\">\n",
              "\n",
              "  <div class=\"colab-df-container\">\n",
              "    <button class=\"colab-df-convert\" onclick=\"convertToInteractive('df-e5088c64-dba8-4fb4-a951-ea4485049082')\"\n",
              "            title=\"Convert this dataframe to an interactive table.\"\n",
              "            style=\"display:none;\">\n",
              "\n",
              "  <svg xmlns=\"http://www.w3.org/2000/svg\" height=\"24px\" viewBox=\"0 -960 960 960\">\n",
              "    <path d=\"M120-120v-720h720v720H120Zm60-500h600v-160H180v160Zm220 220h160v-160H400v160Zm0 220h160v-160H400v160ZM180-400h160v-160H180v160Zm440 0h160v-160H620v160ZM180-180h160v-160H180v160Zm440 0h160v-160H620v160Z\"/>\n",
              "  </svg>\n",
              "    </button>\n",
              "\n",
              "  <style>\n",
              "    .colab-df-container {\n",
              "      display:flex;\n",
              "      gap: 12px;\n",
              "    }\n",
              "\n",
              "    .colab-df-convert {\n",
              "      background-color: #E8F0FE;\n",
              "      border: none;\n",
              "      border-radius: 50%;\n",
              "      cursor: pointer;\n",
              "      display: none;\n",
              "      fill: #1967D2;\n",
              "      height: 32px;\n",
              "      padding: 0 0 0 0;\n",
              "      width: 32px;\n",
              "    }\n",
              "\n",
              "    .colab-df-convert:hover {\n",
              "      background-color: #E2EBFA;\n",
              "      box-shadow: 0px 1px 2px rgba(60, 64, 67, 0.3), 0px 1px 3px 1px rgba(60, 64, 67, 0.15);\n",
              "      fill: #174EA6;\n",
              "    }\n",
              "\n",
              "    .colab-df-buttons div {\n",
              "      margin-bottom: 4px;\n",
              "    }\n",
              "\n",
              "    [theme=dark] .colab-df-convert {\n",
              "      background-color: #3B4455;\n",
              "      fill: #D2E3FC;\n",
              "    }\n",
              "\n",
              "    [theme=dark] .colab-df-convert:hover {\n",
              "      background-color: #434B5C;\n",
              "      box-shadow: 0px 1px 3px 1px rgba(0, 0, 0, 0.15);\n",
              "      filter: drop-shadow(0px 1px 2px rgba(0, 0, 0, 0.3));\n",
              "      fill: #FFFFFF;\n",
              "    }\n",
              "  </style>\n",
              "\n",
              "    <script>\n",
              "      const buttonEl =\n",
              "        document.querySelector('#df-e5088c64-dba8-4fb4-a951-ea4485049082 button.colab-df-convert');\n",
              "      buttonEl.style.display =\n",
              "        google.colab.kernel.accessAllowed ? 'block' : 'none';\n",
              "\n",
              "      async function convertToInteractive(key) {\n",
              "        const element = document.querySelector('#df-e5088c64-dba8-4fb4-a951-ea4485049082');\n",
              "        const dataTable =\n",
              "          await google.colab.kernel.invokeFunction('convertToInteractive',\n",
              "                                                    [key], {});\n",
              "        if (!dataTable) return;\n",
              "\n",
              "        const docLinkHtml = 'Like what you see? Visit the ' +\n",
              "          '<a target=\"_blank\" href=https://colab.research.google.com/notebooks/data_table.ipynb>data table notebook</a>'\n",
              "          + ' to learn more about interactive tables.';\n",
              "        element.innerHTML = '';\n",
              "        dataTable['output_type'] = 'display_data';\n",
              "        await google.colab.output.renderOutput(dataTable, element);\n",
              "        const docLink = document.createElement('div');\n",
              "        docLink.innerHTML = docLinkHtml;\n",
              "        element.appendChild(docLink);\n",
              "      }\n",
              "    </script>\n",
              "  </div>\n",
              "\n",
              "\n",
              "<div id=\"df-7003d917-f35d-4428-88e8-e84114819b46\">\n",
              "  <button class=\"colab-df-quickchart\" onclick=\"quickchart('df-7003d917-f35d-4428-88e8-e84114819b46')\"\n",
              "            title=\"Suggest charts\"\n",
              "            style=\"display:none;\">\n",
              "\n",
              "<svg xmlns=\"http://www.w3.org/2000/svg\" height=\"24px\"viewBox=\"0 0 24 24\"\n",
              "     width=\"24px\">\n",
              "    <g>\n",
              "        <path d=\"M19 3H5c-1.1 0-2 .9-2 2v14c0 1.1.9 2 2 2h14c1.1 0 2-.9 2-2V5c0-1.1-.9-2-2-2zM9 17H7v-7h2v7zm4 0h-2V7h2v10zm4 0h-2v-4h2v4z\"/>\n",
              "    </g>\n",
              "</svg>\n",
              "  </button>\n",
              "\n",
              "<style>\n",
              "  .colab-df-quickchart {\n",
              "      --bg-color: #E8F0FE;\n",
              "      --fill-color: #1967D2;\n",
              "      --hover-bg-color: #E2EBFA;\n",
              "      --hover-fill-color: #174EA6;\n",
              "      --disabled-fill-color: #AAA;\n",
              "      --disabled-bg-color: #DDD;\n",
              "  }\n",
              "\n",
              "  [theme=dark] .colab-df-quickchart {\n",
              "      --bg-color: #3B4455;\n",
              "      --fill-color: #D2E3FC;\n",
              "      --hover-bg-color: #434B5C;\n",
              "      --hover-fill-color: #FFFFFF;\n",
              "      --disabled-bg-color: #3B4455;\n",
              "      --disabled-fill-color: #666;\n",
              "  }\n",
              "\n",
              "  .colab-df-quickchart {\n",
              "    background-color: var(--bg-color);\n",
              "    border: none;\n",
              "    border-radius: 50%;\n",
              "    cursor: pointer;\n",
              "    display: none;\n",
              "    fill: var(--fill-color);\n",
              "    height: 32px;\n",
              "    padding: 0;\n",
              "    width: 32px;\n",
              "  }\n",
              "\n",
              "  .colab-df-quickchart:hover {\n",
              "    background-color: var(--hover-bg-color);\n",
              "    box-shadow: 0 1px 2px rgba(60, 64, 67, 0.3), 0 1px 3px 1px rgba(60, 64, 67, 0.15);\n",
              "    fill: var(--button-hover-fill-color);\n",
              "  }\n",
              "\n",
              "  .colab-df-quickchart-complete:disabled,\n",
              "  .colab-df-quickchart-complete:disabled:hover {\n",
              "    background-color: var(--disabled-bg-color);\n",
              "    fill: var(--disabled-fill-color);\n",
              "    box-shadow: none;\n",
              "  }\n",
              "\n",
              "  .colab-df-spinner {\n",
              "    border: 2px solid var(--fill-color);\n",
              "    border-color: transparent;\n",
              "    border-bottom-color: var(--fill-color);\n",
              "    animation:\n",
              "      spin 1s steps(1) infinite;\n",
              "  }\n",
              "\n",
              "  @keyframes spin {\n",
              "    0% {\n",
              "      border-color: transparent;\n",
              "      border-bottom-color: var(--fill-color);\n",
              "      border-left-color: var(--fill-color);\n",
              "    }\n",
              "    20% {\n",
              "      border-color: transparent;\n",
              "      border-left-color: var(--fill-color);\n",
              "      border-top-color: var(--fill-color);\n",
              "    }\n",
              "    30% {\n",
              "      border-color: transparent;\n",
              "      border-left-color: var(--fill-color);\n",
              "      border-top-color: var(--fill-color);\n",
              "      border-right-color: var(--fill-color);\n",
              "    }\n",
              "    40% {\n",
              "      border-color: transparent;\n",
              "      border-right-color: var(--fill-color);\n",
              "      border-top-color: var(--fill-color);\n",
              "    }\n",
              "    60% {\n",
              "      border-color: transparent;\n",
              "      border-right-color: var(--fill-color);\n",
              "    }\n",
              "    80% {\n",
              "      border-color: transparent;\n",
              "      border-right-color: var(--fill-color);\n",
              "      border-bottom-color: var(--fill-color);\n",
              "    }\n",
              "    90% {\n",
              "      border-color: transparent;\n",
              "      border-bottom-color: var(--fill-color);\n",
              "    }\n",
              "  }\n",
              "</style>\n",
              "\n",
              "  <script>\n",
              "    async function quickchart(key) {\n",
              "      const quickchartButtonEl =\n",
              "        document.querySelector('#' + key + ' button');\n",
              "      quickchartButtonEl.disabled = true;  // To prevent multiple clicks.\n",
              "      quickchartButtonEl.classList.add('colab-df-spinner');\n",
              "      try {\n",
              "        const charts = await google.colab.kernel.invokeFunction(\n",
              "            'suggestCharts', [key], {});\n",
              "      } catch (error) {\n",
              "        console.error('Error during call to suggestCharts:', error);\n",
              "      }\n",
              "      quickchartButtonEl.classList.remove('colab-df-spinner');\n",
              "      quickchartButtonEl.classList.add('colab-df-quickchart-complete');\n",
              "    }\n",
              "    (() => {\n",
              "      let quickchartButtonEl =\n",
              "        document.querySelector('#df-7003d917-f35d-4428-88e8-e84114819b46 button');\n",
              "      quickchartButtonEl.style.display =\n",
              "        google.colab.kernel.accessAllowed ? 'block' : 'none';\n",
              "    })();\n",
              "  </script>\n",
              "</div>\n",
              "    </div>\n",
              "  </div>\n"
            ],
            "application/vnd.google.colaboratory.intrinsic+json": {
              "type": "dataframe",
              "variable_name": "df3",
              "summary": "{\n  \"name\": \"df3\",\n  \"rows\": 172,\n  \"fields\": [\n    {\n      \"column\": \"tag\",\n      \"properties\": {\n        \"dtype\": \"category\",\n        \"num_unique_values\": 3,\n        \"samples\": [\n          \"greeting\",\n          \"goodbye\",\n          \"name\"\n        ],\n        \"semantic_type\": \"\",\n        \"description\": \"\"\n      }\n    },\n    {\n      \"column\": \"patterns\",\n      \"properties\": {\n        \"dtype\": \"string\",\n        \"num_unique_values\": 172,\n        \"samples\": [\n          \"Hey smarty pants\",\n          \"Hi there! What's your name?\",\n          \"Before we get started, could you tell me your name?\"\n        ],\n        \"semantic_type\": \"\",\n        \"description\": \"\"\n      }\n    }\n  ]\n}"
            }
          },
          "metadata": {},
          "execution_count": 13
        }
      ],
      "source": [
        "df3"
      ]
    },
    {
      "cell_type": "code",
      "execution_count": 14,
      "id": "480e6981",
      "metadata": {
        "colab": {
          "base_uri": "https://localhost:8080/"
        },
        "id": "480e6981",
        "outputId": "c59ae1c4-a46c-4d26-a06a-96336740e62f"
      },
      "outputs": [
        {
          "output_type": "stream",
          "name": "stderr",
          "text": [
            "[nltk_data] Downloading package punkt to /root/nltk_data...\n",
            "[nltk_data]   Unzipping tokenizers/punkt.zip.\n"
          ]
        }
      ],
      "source": [
        "import nltk\n",
        "nltk.download(\"punkt\")\n",
        "from nltk.tokenize import word_tokenize\n",
        "from nltk.tokenize import sent_tokenize"
      ]
    },
    {
      "cell_type": "code",
      "execution_count": 15,
      "id": "228e4553",
      "metadata": {
        "id": "228e4553"
      },
      "outputs": [],
      "source": [
        "## Data Preprocessing\n",
        "## 1. convert to lowercase\n",
        "## 2. remove stop words and special characters\n",
        "## 3. stemming(conversion of similar words to their root words : dance, dancing , danced == dance)"
      ]
    },
    {
      "cell_type": "code",
      "execution_count": 16,
      "id": "301f7e3a",
      "metadata": {
        "colab": {
          "base_uri": "https://localhost:8080/"
        },
        "id": "301f7e3a",
        "outputId": "31b29574-2f52-4670-b0b1-2ec2aeee1d2a"
      },
      "outputs": [
        {
          "output_type": "stream",
          "name": "stderr",
          "text": [
            "[nltk_data] Downloading package stopwords to /root/nltk_data...\n",
            "[nltk_data]   Unzipping corpora/stopwords.zip.\n"
          ]
        }
      ],
      "source": [
        "from nltk.corpus import stopwords\n",
        "nltk.download(\"stopwords\")\n",
        "import string"
      ]
    },
    {
      "cell_type": "code",
      "execution_count": 17,
      "id": "043f9f6a",
      "metadata": {
        "id": "043f9f6a"
      },
      "outputs": [],
      "source": [
        "from nltk.stem.porter import PorterStemmer\n",
        "ps = PorterStemmer()"
      ]
    },
    {
      "cell_type": "code",
      "execution_count": 17,
      "id": "8351d091",
      "metadata": {
        "id": "8351d091"
      },
      "outputs": [],
      "source": []
    },
    {
      "cell_type": "code",
      "execution_count": 18,
      "id": "f296d4a0",
      "metadata": {
        "id": "f296d4a0"
      },
      "outputs": [],
      "source": [
        "## function for data preprocessing of the comment_text column\n",
        "def preprocessing(text):\n",
        "  text = text.lower()\n",
        "  text = nltk.word_tokenize(text)\n",
        "  y = []\n",
        "  for i in text:\n",
        "    if i.isalnum():\n",
        "      y.append(i)\n",
        "  text = list(y)\n",
        "  y.clear()\n",
        "\n",
        "  # for i in text:\n",
        "  #   if i not in stopwords.words(\"english\"):\n",
        "  #     y.append(i)\n",
        "\n",
        "  # text = list(y)\n",
        "  # y.clear()\n",
        "\n",
        "  for i in text:\n",
        "    if i not in string.punctuation:\n",
        "      y.append(i)\n",
        "\n",
        "  text = list(y)\n",
        "  y.clear()\n",
        "\n",
        "  for i in text:\n",
        "    y.append(ps.stem(i))\n",
        "\n",
        "\n",
        "  return \" \".join(y)\n"
      ]
    },
    {
      "cell_type": "code",
      "execution_count": 19,
      "id": "0d2c019f-bd81-4b4c-846c-7a49e0b74d83",
      "metadata": {
        "id": "0d2c019f-bd81-4b4c-846c-7a49e0b74d83"
      },
      "outputs": [],
      "source": [
        "import sys\n",
        "sys.setrecursionlimit(10**6)\n"
      ]
    },
    {
      "cell_type": "code",
      "execution_count": 20,
      "id": "603a4b2a",
      "metadata": {
        "id": "603a4b2a"
      },
      "outputs": [],
      "source": [
        "df3[\"patterns\"] = df3[\"patterns\"].apply(preprocessing)"
      ]
    },
    {
      "cell_type": "code",
      "execution_count": 21,
      "id": "6b9f3fe6",
      "metadata": {
        "colab": {
          "base_uri": "https://localhost:8080/",
          "height": 423
        },
        "id": "6b9f3fe6",
        "outputId": "d6a89f09-2cb0-45b0-f726-9fd193168a0b"
      },
      "outputs": [
        {
          "output_type": "execute_result",
          "data": {
            "text/plain": [
              "          tag                                          patterns\n",
              "0    greeting                                             hello\n",
              "1    greeting                                          hi there\n",
              "2    greeting                                               hey\n",
              "3    greeting                                             greet\n",
              "4    greeting                                         good morn\n",
              "..        ...                                               ...\n",
              "167      name                        may i know your name pleas\n",
              "168      name                            hi can i get your name\n",
              "169      name   befor we continu would you mind share your name\n",
              "170      name  hey i interest to know your name can you tell me\n",
              "171      name                       hello i your name what your\n",
              "\n",
              "[172 rows x 2 columns]"
            ],
            "text/html": [
              "\n",
              "  <div id=\"df-083d4b23-3073-490f-a896-e472bc8e1fcb\" class=\"colab-df-container\">\n",
              "    <div>\n",
              "<style scoped>\n",
              "    .dataframe tbody tr th:only-of-type {\n",
              "        vertical-align: middle;\n",
              "    }\n",
              "\n",
              "    .dataframe tbody tr th {\n",
              "        vertical-align: top;\n",
              "    }\n",
              "\n",
              "    .dataframe thead th {\n",
              "        text-align: right;\n",
              "    }\n",
              "</style>\n",
              "<table border=\"1\" class=\"dataframe\">\n",
              "  <thead>\n",
              "    <tr style=\"text-align: right;\">\n",
              "      <th></th>\n",
              "      <th>tag</th>\n",
              "      <th>patterns</th>\n",
              "    </tr>\n",
              "  </thead>\n",
              "  <tbody>\n",
              "    <tr>\n",
              "      <th>0</th>\n",
              "      <td>greeting</td>\n",
              "      <td>hello</td>\n",
              "    </tr>\n",
              "    <tr>\n",
              "      <th>1</th>\n",
              "      <td>greeting</td>\n",
              "      <td>hi there</td>\n",
              "    </tr>\n",
              "    <tr>\n",
              "      <th>2</th>\n",
              "      <td>greeting</td>\n",
              "      <td>hey</td>\n",
              "    </tr>\n",
              "    <tr>\n",
              "      <th>3</th>\n",
              "      <td>greeting</td>\n",
              "      <td>greet</td>\n",
              "    </tr>\n",
              "    <tr>\n",
              "      <th>4</th>\n",
              "      <td>greeting</td>\n",
              "      <td>good morn</td>\n",
              "    </tr>\n",
              "    <tr>\n",
              "      <th>...</th>\n",
              "      <td>...</td>\n",
              "      <td>...</td>\n",
              "    </tr>\n",
              "    <tr>\n",
              "      <th>167</th>\n",
              "      <td>name</td>\n",
              "      <td>may i know your name pleas</td>\n",
              "    </tr>\n",
              "    <tr>\n",
              "      <th>168</th>\n",
              "      <td>name</td>\n",
              "      <td>hi can i get your name</td>\n",
              "    </tr>\n",
              "    <tr>\n",
              "      <th>169</th>\n",
              "      <td>name</td>\n",
              "      <td>befor we continu would you mind share your name</td>\n",
              "    </tr>\n",
              "    <tr>\n",
              "      <th>170</th>\n",
              "      <td>name</td>\n",
              "      <td>hey i interest to know your name can you tell me</td>\n",
              "    </tr>\n",
              "    <tr>\n",
              "      <th>171</th>\n",
              "      <td>name</td>\n",
              "      <td>hello i your name what your</td>\n",
              "    </tr>\n",
              "  </tbody>\n",
              "</table>\n",
              "<p>172 rows × 2 columns</p>\n",
              "</div>\n",
              "    <div class=\"colab-df-buttons\">\n",
              "\n",
              "  <div class=\"colab-df-container\">\n",
              "    <button class=\"colab-df-convert\" onclick=\"convertToInteractive('df-083d4b23-3073-490f-a896-e472bc8e1fcb')\"\n",
              "            title=\"Convert this dataframe to an interactive table.\"\n",
              "            style=\"display:none;\">\n",
              "\n",
              "  <svg xmlns=\"http://www.w3.org/2000/svg\" height=\"24px\" viewBox=\"0 -960 960 960\">\n",
              "    <path d=\"M120-120v-720h720v720H120Zm60-500h600v-160H180v160Zm220 220h160v-160H400v160Zm0 220h160v-160H400v160ZM180-400h160v-160H180v160Zm440 0h160v-160H620v160ZM180-180h160v-160H180v160Zm440 0h160v-160H620v160Z\"/>\n",
              "  </svg>\n",
              "    </button>\n",
              "\n",
              "  <style>\n",
              "    .colab-df-container {\n",
              "      display:flex;\n",
              "      gap: 12px;\n",
              "    }\n",
              "\n",
              "    .colab-df-convert {\n",
              "      background-color: #E8F0FE;\n",
              "      border: none;\n",
              "      border-radius: 50%;\n",
              "      cursor: pointer;\n",
              "      display: none;\n",
              "      fill: #1967D2;\n",
              "      height: 32px;\n",
              "      padding: 0 0 0 0;\n",
              "      width: 32px;\n",
              "    }\n",
              "\n",
              "    .colab-df-convert:hover {\n",
              "      background-color: #E2EBFA;\n",
              "      box-shadow: 0px 1px 2px rgba(60, 64, 67, 0.3), 0px 1px 3px 1px rgba(60, 64, 67, 0.15);\n",
              "      fill: #174EA6;\n",
              "    }\n",
              "\n",
              "    .colab-df-buttons div {\n",
              "      margin-bottom: 4px;\n",
              "    }\n",
              "\n",
              "    [theme=dark] .colab-df-convert {\n",
              "      background-color: #3B4455;\n",
              "      fill: #D2E3FC;\n",
              "    }\n",
              "\n",
              "    [theme=dark] .colab-df-convert:hover {\n",
              "      background-color: #434B5C;\n",
              "      box-shadow: 0px 1px 3px 1px rgba(0, 0, 0, 0.15);\n",
              "      filter: drop-shadow(0px 1px 2px rgba(0, 0, 0, 0.3));\n",
              "      fill: #FFFFFF;\n",
              "    }\n",
              "  </style>\n",
              "\n",
              "    <script>\n",
              "      const buttonEl =\n",
              "        document.querySelector('#df-083d4b23-3073-490f-a896-e472bc8e1fcb button.colab-df-convert');\n",
              "      buttonEl.style.display =\n",
              "        google.colab.kernel.accessAllowed ? 'block' : 'none';\n",
              "\n",
              "      async function convertToInteractive(key) {\n",
              "        const element = document.querySelector('#df-083d4b23-3073-490f-a896-e472bc8e1fcb');\n",
              "        const dataTable =\n",
              "          await google.colab.kernel.invokeFunction('convertToInteractive',\n",
              "                                                    [key], {});\n",
              "        if (!dataTable) return;\n",
              "\n",
              "        const docLinkHtml = 'Like what you see? Visit the ' +\n",
              "          '<a target=\"_blank\" href=https://colab.research.google.com/notebooks/data_table.ipynb>data table notebook</a>'\n",
              "          + ' to learn more about interactive tables.';\n",
              "        element.innerHTML = '';\n",
              "        dataTable['output_type'] = 'display_data';\n",
              "        await google.colab.output.renderOutput(dataTable, element);\n",
              "        const docLink = document.createElement('div');\n",
              "        docLink.innerHTML = docLinkHtml;\n",
              "        element.appendChild(docLink);\n",
              "      }\n",
              "    </script>\n",
              "  </div>\n",
              "\n",
              "\n",
              "<div id=\"df-6fc42035-c15f-42c1-be9f-37e5f5bb02c5\">\n",
              "  <button class=\"colab-df-quickchart\" onclick=\"quickchart('df-6fc42035-c15f-42c1-be9f-37e5f5bb02c5')\"\n",
              "            title=\"Suggest charts\"\n",
              "            style=\"display:none;\">\n",
              "\n",
              "<svg xmlns=\"http://www.w3.org/2000/svg\" height=\"24px\"viewBox=\"0 0 24 24\"\n",
              "     width=\"24px\">\n",
              "    <g>\n",
              "        <path d=\"M19 3H5c-1.1 0-2 .9-2 2v14c0 1.1.9 2 2 2h14c1.1 0 2-.9 2-2V5c0-1.1-.9-2-2-2zM9 17H7v-7h2v7zm4 0h-2V7h2v10zm4 0h-2v-4h2v4z\"/>\n",
              "    </g>\n",
              "</svg>\n",
              "  </button>\n",
              "\n",
              "<style>\n",
              "  .colab-df-quickchart {\n",
              "      --bg-color: #E8F0FE;\n",
              "      --fill-color: #1967D2;\n",
              "      --hover-bg-color: #E2EBFA;\n",
              "      --hover-fill-color: #174EA6;\n",
              "      --disabled-fill-color: #AAA;\n",
              "      --disabled-bg-color: #DDD;\n",
              "  }\n",
              "\n",
              "  [theme=dark] .colab-df-quickchart {\n",
              "      --bg-color: #3B4455;\n",
              "      --fill-color: #D2E3FC;\n",
              "      --hover-bg-color: #434B5C;\n",
              "      --hover-fill-color: #FFFFFF;\n",
              "      --disabled-bg-color: #3B4455;\n",
              "      --disabled-fill-color: #666;\n",
              "  }\n",
              "\n",
              "  .colab-df-quickchart {\n",
              "    background-color: var(--bg-color);\n",
              "    border: none;\n",
              "    border-radius: 50%;\n",
              "    cursor: pointer;\n",
              "    display: none;\n",
              "    fill: var(--fill-color);\n",
              "    height: 32px;\n",
              "    padding: 0;\n",
              "    width: 32px;\n",
              "  }\n",
              "\n",
              "  .colab-df-quickchart:hover {\n",
              "    background-color: var(--hover-bg-color);\n",
              "    box-shadow: 0 1px 2px rgba(60, 64, 67, 0.3), 0 1px 3px 1px rgba(60, 64, 67, 0.15);\n",
              "    fill: var(--button-hover-fill-color);\n",
              "  }\n",
              "\n",
              "  .colab-df-quickchart-complete:disabled,\n",
              "  .colab-df-quickchart-complete:disabled:hover {\n",
              "    background-color: var(--disabled-bg-color);\n",
              "    fill: var(--disabled-fill-color);\n",
              "    box-shadow: none;\n",
              "  }\n",
              "\n",
              "  .colab-df-spinner {\n",
              "    border: 2px solid var(--fill-color);\n",
              "    border-color: transparent;\n",
              "    border-bottom-color: var(--fill-color);\n",
              "    animation:\n",
              "      spin 1s steps(1) infinite;\n",
              "  }\n",
              "\n",
              "  @keyframes spin {\n",
              "    0% {\n",
              "      border-color: transparent;\n",
              "      border-bottom-color: var(--fill-color);\n",
              "      border-left-color: var(--fill-color);\n",
              "    }\n",
              "    20% {\n",
              "      border-color: transparent;\n",
              "      border-left-color: var(--fill-color);\n",
              "      border-top-color: var(--fill-color);\n",
              "    }\n",
              "    30% {\n",
              "      border-color: transparent;\n",
              "      border-left-color: var(--fill-color);\n",
              "      border-top-color: var(--fill-color);\n",
              "      border-right-color: var(--fill-color);\n",
              "    }\n",
              "    40% {\n",
              "      border-color: transparent;\n",
              "      border-right-color: var(--fill-color);\n",
              "      border-top-color: var(--fill-color);\n",
              "    }\n",
              "    60% {\n",
              "      border-color: transparent;\n",
              "      border-right-color: var(--fill-color);\n",
              "    }\n",
              "    80% {\n",
              "      border-color: transparent;\n",
              "      border-right-color: var(--fill-color);\n",
              "      border-bottom-color: var(--fill-color);\n",
              "    }\n",
              "    90% {\n",
              "      border-color: transparent;\n",
              "      border-bottom-color: var(--fill-color);\n",
              "    }\n",
              "  }\n",
              "</style>\n",
              "\n",
              "  <script>\n",
              "    async function quickchart(key) {\n",
              "      const quickchartButtonEl =\n",
              "        document.querySelector('#' + key + ' button');\n",
              "      quickchartButtonEl.disabled = true;  // To prevent multiple clicks.\n",
              "      quickchartButtonEl.classList.add('colab-df-spinner');\n",
              "      try {\n",
              "        const charts = await google.colab.kernel.invokeFunction(\n",
              "            'suggestCharts', [key], {});\n",
              "      } catch (error) {\n",
              "        console.error('Error during call to suggestCharts:', error);\n",
              "      }\n",
              "      quickchartButtonEl.classList.remove('colab-df-spinner');\n",
              "      quickchartButtonEl.classList.add('colab-df-quickchart-complete');\n",
              "    }\n",
              "    (() => {\n",
              "      let quickchartButtonEl =\n",
              "        document.querySelector('#df-6fc42035-c15f-42c1-be9f-37e5f5bb02c5 button');\n",
              "      quickchartButtonEl.style.display =\n",
              "        google.colab.kernel.accessAllowed ? 'block' : 'none';\n",
              "    })();\n",
              "  </script>\n",
              "</div>\n",
              "    </div>\n",
              "  </div>\n"
            ],
            "application/vnd.google.colaboratory.intrinsic+json": {
              "type": "dataframe",
              "variable_name": "df3",
              "summary": "{\n  \"name\": \"df3\",\n  \"rows\": 172,\n  \"fields\": [\n    {\n      \"column\": \"tag\",\n      \"properties\": {\n        \"dtype\": \"category\",\n        \"num_unique_values\": 3,\n        \"samples\": [\n          \"greeting\",\n          \"goodbye\",\n          \"name\"\n        ],\n        \"semantic_type\": \"\",\n        \"description\": \"\"\n      }\n    },\n    {\n      \"column\": \"patterns\",\n      \"properties\": {\n        \"dtype\": \"string\",\n        \"num_unique_values\": 171,\n        \"samples\": [\n          \"goodnight\",\n          \"hey beauti\",\n          \"good day to you\"\n        ],\n        \"semantic_type\": \"\",\n        \"description\": \"\"\n      }\n    }\n  ]\n}"
            }
          },
          "metadata": {},
          "execution_count": 21
        }
      ],
      "source": [
        "df3"
      ]
    },
    {
      "cell_type": "code",
      "execution_count": 22,
      "id": "79e27327",
      "metadata": {
        "id": "79e27327"
      },
      "outputs": [],
      "source": [
        "from wordcloud import WordCloud"
      ]
    },
    {
      "cell_type": "code",
      "execution_count": 23,
      "id": "f97f1ac8",
      "metadata": {
        "id": "f97f1ac8"
      },
      "outputs": [],
      "source": [
        "# whole_text = (new_df[new_df[\"toxic\"] == 1][\"transformed_text\"]).to_list()\n",
        "# text_data = \" \".join(whole_text)"
      ]
    },
    {
      "cell_type": "code",
      "execution_count": 24,
      "id": "09b61efb",
      "metadata": {
        "id": "09b61efb"
      },
      "outputs": [],
      "source": [
        "# # Split the text into words (assuming space-separated words)\n",
        "# word_list = text_data.split()\n",
        "\n",
        "# # Create a WordCloud object\n",
        "# wordcloud = WordCloud(width=800, height=400, background_color='white').generate(text_data)\n",
        "\n",
        "# # Display the generated word cloud using matplotlib\n",
        "# plt.figure(figsize=(10, 5))\n",
        "# plt.imshow(wordcloud, interpolation='bilinear')\n",
        "# plt.axis('off')  # Turn off axis labels\n",
        "# plt.show()"
      ]
    },
    {
      "cell_type": "code",
      "execution_count": 25,
      "id": "9513a639",
      "metadata": {
        "id": "9513a639"
      },
      "outputs": [],
      "source": [
        "import sklearn\n",
        "from sklearn.preprocessing import LabelEncoder\n",
        "from sklearn.feature_extraction.text import CountVectorizer,TfidfVectorizer\n",
        "cv = CountVectorizer()\n",
        "tfid = TfidfVectorizer(max_features=100) #1000"
      ]
    },
    {
      "cell_type": "code",
      "execution_count": 26,
      "id": "652d2952-937d-4b87-b566-f70ecfde27ea",
      "metadata": {
        "id": "652d2952-937d-4b87-b566-f70ecfde27ea"
      },
      "outputs": [],
      "source": [
        "le = LabelEncoder()"
      ]
    },
    {
      "cell_type": "code",
      "execution_count": 27,
      "id": "20f93991-7f31-468f-b34a-c2ff076adf74",
      "metadata": {
        "id": "20f93991-7f31-468f-b34a-c2ff076adf74"
      },
      "outputs": [],
      "source": [
        "y = le.fit_transform(df3[\"tag\"])"
      ]
    },
    {
      "cell_type": "code",
      "source": [
        "label_mapping = dict(zip(le.classes_, le.transform(le.classes_)))"
      ],
      "metadata": {
        "id": "IJBY3236wHYi"
      },
      "id": "IJBY3236wHYi",
      "execution_count": 28,
      "outputs": []
    },
    {
      "cell_type": "code",
      "execution_count": 29,
      "id": "42f489ec",
      "metadata": {
        "id": "42f489ec"
      },
      "outputs": [],
      "source": [
        "X = tfid.fit_transform(df3[\"patterns\"]).toarray()\n"
      ]
    },
    {
      "cell_type": "code",
      "execution_count": 30,
      "id": "8acbf2de-b1d7-4c1d-ad5d-e5923e03464c",
      "metadata": {
        "id": "8acbf2de-b1d7-4c1d-ad5d-e5923e03464c"
      },
      "outputs": [],
      "source": [
        "# query = X[0].reshape(1, -1)\n",
        "# query.shape"
      ]
    },
    {
      "cell_type": "code",
      "execution_count": 31,
      "id": "ee1516c4",
      "metadata": {
        "colab": {
          "base_uri": "https://localhost:8080/"
        },
        "id": "ee1516c4",
        "outputId": "355a0a2e-2bdf-4e1c-9379-0fe340e86c43"
      },
      "outputs": [
        {
          "output_type": "execute_result",
          "data": {
            "text/plain": [
              "(172, 100)"
            ]
          },
          "metadata": {},
          "execution_count": 31
        }
      ],
      "source": [
        "X.shape"
      ]
    },
    {
      "cell_type": "code",
      "execution_count": 32,
      "id": "d88019f9",
      "metadata": {
        "colab": {
          "base_uri": "https://localhost:8080/"
        },
        "id": "d88019f9",
        "outputId": "216974d8-bc4e-4af2-d1e1-97cca6126500"
      },
      "outputs": [
        {
          "output_type": "execute_result",
          "data": {
            "text/plain": [
              "(172,)"
            ]
          },
          "metadata": {},
          "execution_count": 32
        }
      ],
      "source": [
        "y.shape"
      ]
    },
    {
      "cell_type": "code",
      "source": [
        "y"
      ],
      "metadata": {
        "colab": {
          "base_uri": "https://localhost:8080/"
        },
        "id": "tCuVIGAZnUeL",
        "outputId": "5d691363-6f67-44b5-dd7c-0b1a35cd074f"
      },
      "id": "tCuVIGAZnUeL",
      "execution_count": 33,
      "outputs": [
        {
          "output_type": "execute_result",
          "data": {
            "text/plain": [
              "array([1, 1, 1, 1, 1, 1, 1, 1, 1, 1, 1, 1, 1, 1, 1, 1, 1, 1, 1, 1, 1, 1,\n",
              "       1, 1, 1, 1, 1, 1, 1, 1, 1, 1, 1, 1, 1, 1, 1, 1, 1, 1, 1, 1, 1, 1,\n",
              "       1, 1, 1, 1, 1, 1, 1, 1, 1, 1, 1, 1, 1, 1, 1, 1, 1, 1, 1, 1, 1, 1,\n",
              "       1, 1, 1, 1, 1, 1, 1, 1, 1, 1, 1, 1, 0, 0, 0, 0, 0, 0, 0, 0, 0, 0,\n",
              "       0, 0, 0, 0, 0, 0, 0, 0, 0, 0, 0, 0, 0, 0, 0, 0, 0, 0, 0, 0, 0, 0,\n",
              "       0, 0, 0, 0, 0, 0, 0, 0, 0, 0, 0, 0, 0, 0, 0, 0, 0, 2, 2, 2, 2, 2,\n",
              "       2, 2, 2, 2, 2, 2, 2, 2, 2, 2, 2, 2, 2, 2, 2, 2, 2, 2, 2, 2, 2, 2,\n",
              "       2, 2, 2, 2, 2, 2, 2, 2, 2, 2, 2, 2, 2, 2, 2, 2, 2, 2])"
            ]
          },
          "metadata": {},
          "execution_count": 33
        }
      ]
    },
    {
      "cell_type": "code",
      "execution_count": 34,
      "id": "a73ef804",
      "metadata": {
        "id": "a73ef804"
      },
      "outputs": [],
      "source": [
        "from sklearn.model_selection import train_test_split"
      ]
    },
    {
      "cell_type": "code",
      "execution_count": 35,
      "id": "3704a332",
      "metadata": {
        "id": "3704a332"
      },
      "outputs": [],
      "source": [
        "X_train, X_test, y_train, y_test = train_test_split(X,y,random_state=2,test_size=0.2)"
      ]
    },
    {
      "cell_type": "code",
      "execution_count": 36,
      "id": "3e43acd6",
      "metadata": {
        "id": "3e43acd6"
      },
      "outputs": [],
      "source": [
        "from sklearn.naive_bayes import GaussianNB, BernoulliNB, MultinomialNB\n",
        "from sklearn.metrics import accuracy_score, confusion_matrix, precision_score, f1_score\n",
        "gb = GaussianNB()\n",
        "bb = BernoulliNB()\n",
        "mb = MultinomialNB()"
      ]
    },
    {
      "cell_type": "code",
      "source": [
        "mb.fit(X_train, y_train)"
      ],
      "metadata": {
        "colab": {
          "base_uri": "https://localhost:8080/",
          "height": 74
        },
        "id": "FTHWWDE-m_ts",
        "outputId": "ac2876c0-f3bf-431d-e916-3e8c48299dc0"
      },
      "id": "FTHWWDE-m_ts",
      "execution_count": 37,
      "outputs": [
        {
          "output_type": "execute_result",
          "data": {
            "text/plain": [
              "MultinomialNB()"
            ],
            "text/html": [
              "<style>#sk-container-id-1 {color: black;background-color: white;}#sk-container-id-1 pre{padding: 0;}#sk-container-id-1 div.sk-toggleable {background-color: white;}#sk-container-id-1 label.sk-toggleable__label {cursor: pointer;display: block;width: 100%;margin-bottom: 0;padding: 0.3em;box-sizing: border-box;text-align: center;}#sk-container-id-1 label.sk-toggleable__label-arrow:before {content: \"▸\";float: left;margin-right: 0.25em;color: #696969;}#sk-container-id-1 label.sk-toggleable__label-arrow:hover:before {color: black;}#sk-container-id-1 div.sk-estimator:hover label.sk-toggleable__label-arrow:before {color: black;}#sk-container-id-1 div.sk-toggleable__content {max-height: 0;max-width: 0;overflow: hidden;text-align: left;background-color: #f0f8ff;}#sk-container-id-1 div.sk-toggleable__content pre {margin: 0.2em;color: black;border-radius: 0.25em;background-color: #f0f8ff;}#sk-container-id-1 input.sk-toggleable__control:checked~div.sk-toggleable__content {max-height: 200px;max-width: 100%;overflow: auto;}#sk-container-id-1 input.sk-toggleable__control:checked~label.sk-toggleable__label-arrow:before {content: \"▾\";}#sk-container-id-1 div.sk-estimator input.sk-toggleable__control:checked~label.sk-toggleable__label {background-color: #d4ebff;}#sk-container-id-1 div.sk-label input.sk-toggleable__control:checked~label.sk-toggleable__label {background-color: #d4ebff;}#sk-container-id-1 input.sk-hidden--visually {border: 0;clip: rect(1px 1px 1px 1px);clip: rect(1px, 1px, 1px, 1px);height: 1px;margin: -1px;overflow: hidden;padding: 0;position: absolute;width: 1px;}#sk-container-id-1 div.sk-estimator {font-family: monospace;background-color: #f0f8ff;border: 1px dotted black;border-radius: 0.25em;box-sizing: border-box;margin-bottom: 0.5em;}#sk-container-id-1 div.sk-estimator:hover {background-color: #d4ebff;}#sk-container-id-1 div.sk-parallel-item::after {content: \"\";width: 100%;border-bottom: 1px solid gray;flex-grow: 1;}#sk-container-id-1 div.sk-label:hover label.sk-toggleable__label {background-color: #d4ebff;}#sk-container-id-1 div.sk-serial::before {content: \"\";position: absolute;border-left: 1px solid gray;box-sizing: border-box;top: 0;bottom: 0;left: 50%;z-index: 0;}#sk-container-id-1 div.sk-serial {display: flex;flex-direction: column;align-items: center;background-color: white;padding-right: 0.2em;padding-left: 0.2em;position: relative;}#sk-container-id-1 div.sk-item {position: relative;z-index: 1;}#sk-container-id-1 div.sk-parallel {display: flex;align-items: stretch;justify-content: center;background-color: white;position: relative;}#sk-container-id-1 div.sk-item::before, #sk-container-id-1 div.sk-parallel-item::before {content: \"\";position: absolute;border-left: 1px solid gray;box-sizing: border-box;top: 0;bottom: 0;left: 50%;z-index: -1;}#sk-container-id-1 div.sk-parallel-item {display: flex;flex-direction: column;z-index: 1;position: relative;background-color: white;}#sk-container-id-1 div.sk-parallel-item:first-child::after {align-self: flex-end;width: 50%;}#sk-container-id-1 div.sk-parallel-item:last-child::after {align-self: flex-start;width: 50%;}#sk-container-id-1 div.sk-parallel-item:only-child::after {width: 0;}#sk-container-id-1 div.sk-dashed-wrapped {border: 1px dashed gray;margin: 0 0.4em 0.5em 0.4em;box-sizing: border-box;padding-bottom: 0.4em;background-color: white;}#sk-container-id-1 div.sk-label label {font-family: monospace;font-weight: bold;display: inline-block;line-height: 1.2em;}#sk-container-id-1 div.sk-label-container {text-align: center;}#sk-container-id-1 div.sk-container {/* jupyter's `normalize.less` sets `[hidden] { display: none; }` but bootstrap.min.css set `[hidden] { display: none !important; }` so we also need the `!important` here to be able to override the default hidden behavior on the sphinx rendered scikit-learn.org. See: https://github.com/scikit-learn/scikit-learn/issues/21755 */display: inline-block !important;position: relative;}#sk-container-id-1 div.sk-text-repr-fallback {display: none;}</style><div id=\"sk-container-id-1\" class=\"sk-top-container\"><div class=\"sk-text-repr-fallback\"><pre>MultinomialNB()</pre><b>In a Jupyter environment, please rerun this cell to show the HTML representation or trust the notebook. <br />On GitHub, the HTML representation is unable to render, please try loading this page with nbviewer.org.</b></div><div class=\"sk-container\" hidden><div class=\"sk-item\"><div class=\"sk-estimator sk-toggleable\"><input class=\"sk-toggleable__control sk-hidden--visually\" id=\"sk-estimator-id-1\" type=\"checkbox\" checked><label for=\"sk-estimator-id-1\" class=\"sk-toggleable__label sk-toggleable__label-arrow\">MultinomialNB</label><div class=\"sk-toggleable__content\"><pre>MultinomialNB()</pre></div></div></div></div></div>"
            ]
          },
          "metadata": {},
          "execution_count": 37
        }
      ]
    },
    {
      "cell_type": "code",
      "source": [
        "y_pred = mb.predict(X_test)"
      ],
      "metadata": {
        "id": "XixqOQPhnElw"
      },
      "id": "XixqOQPhnElw",
      "execution_count": 38,
      "outputs": []
    },
    {
      "cell_type": "code",
      "source": [
        "from sklearn.metrics import accuracy_score"
      ],
      "metadata": {
        "id": "dbxBcQUYnIFi"
      },
      "id": "dbxBcQUYnIFi",
      "execution_count": 39,
      "outputs": []
    },
    {
      "cell_type": "code",
      "source": [
        "accuracy_score(y_test, y_pred)"
      ],
      "metadata": {
        "colab": {
          "base_uri": "https://localhost:8080/"
        },
        "id": "VY9YR8G-nNhs",
        "outputId": "57d9b1fc-e0e4-49b3-f73f-42d54101f078"
      },
      "id": "VY9YR8G-nNhs",
      "execution_count": 40,
      "outputs": [
        {
          "output_type": "execute_result",
          "data": {
            "text/plain": [
              "0.9142857142857143"
            ]
          },
          "metadata": {},
          "execution_count": 40
        }
      ]
    },
    {
      "cell_type": "code",
      "execution_count": 41,
      "id": "e0481634",
      "metadata": {
        "id": "e0481634"
      },
      "outputs": [],
      "source": [
        "from sklearn.linear_model import LogisticRegression\n",
        "from sklearn.svm import SVC\n",
        "from sklearn.naive_bayes import MultinomialNB\n",
        "from sklearn.tree import DecisionTreeClassifier\n",
        "from sklearn.neighbors import KNeighborsClassifier\n",
        "from sklearn.ensemble import RandomForestClassifier\n",
        "from sklearn.ensemble import AdaBoostClassifier\n",
        "from sklearn.ensemble import BaggingClassifier\n",
        "from sklearn.ensemble import ExtraTreesClassifier\n",
        "from sklearn.ensemble import GradientBoostingClassifier\n",
        "from xgboost import XGBClassifier"
      ]
    },
    {
      "cell_type": "code",
      "execution_count": 42,
      "id": "d7e05648",
      "metadata": {
        "id": "d7e05648"
      },
      "outputs": [],
      "source": [
        "svc = SVC(kernel='sigmoid', gamma=1.0)\n",
        "mnb = MultinomialNB()\n",
        "dtc = DecisionTreeClassifier()\n",
        "lrc = LogisticRegression(solver='saga', penalty='l2')\n",
        "rfc = RandomForestClassifier(n_estimators=100, random_state=42)\n",
        "abc = AdaBoostClassifier(n_estimators=50, random_state=2)\n",
        "bc = BaggingClassifier(n_estimators=200, random_state=42)\n",
        "xgb = XGBClassifier(n_estimators=200,random_state=42)"
      ]
    },
    {
      "cell_type": "code",
      "execution_count": 43,
      "id": "685bec63",
      "metadata": {
        "id": "685bec63"
      },
      "outputs": [],
      "source": [
        "clfs = {\n",
        "     'SVC' : svc,\n",
        "    'NB': mnb,\n",
        "    'DT': dtc,\n",
        "    'LR': lrc,\n",
        "    'RF': rfc,\n",
        "    'AdaBoost': abc,\n",
        "    'BgC': bc,\n",
        "    'xgb':xgb\n",
        "}"
      ]
    },
    {
      "cell_type": "code",
      "execution_count": 44,
      "id": "5e2fd61c-91d8-4bdc-b639-f98131d7e65c",
      "metadata": {
        "colab": {
          "base_uri": "https://localhost:8080/"
        },
        "id": "5e2fd61c-91d8-4bdc-b639-f98131d7e65c",
        "outputId": "d181562a-a735-4d4f-e293-3a70562884be"
      },
      "outputs": [
        {
          "output_type": "execute_result",
          "data": {
            "text/plain": [
              "0.9142857142857143"
            ]
          },
          "metadata": {},
          "execution_count": 44
        }
      ],
      "source": [
        "rfc.fit(X_train, y_train)\n",
        "y_pred = rfc.predict(X_test)\n",
        "accuracy_score(y_test, y_pred)"
      ]
    },
    {
      "cell_type": "code",
      "source": [
        "bc.fit(X_train, y_train)\n",
        "y_pred = bc.predict(X_test)\n",
        "accuracy_score(y_test, y_pred)"
      ],
      "metadata": {
        "colab": {
          "base_uri": "https://localhost:8080/"
        },
        "id": "eDpEo-CvolJn",
        "outputId": "b8e95026-1107-49d4-f7b2-b5cb5942b0bb"
      },
      "id": "eDpEo-CvolJn",
      "execution_count": 45,
      "outputs": [
        {
          "output_type": "execute_result",
          "data": {
            "text/plain": [
              "0.8857142857142857"
            ]
          },
          "metadata": {},
          "execution_count": 45
        }
      ]
    },
    {
      "cell_type": "code",
      "source": [
        "svc.fit(X_train, y_train)\n",
        "y_pred = svc.predict(X_test)\n",
        "accuracy_score(y_test, y_pred)"
      ],
      "metadata": {
        "colab": {
          "base_uri": "https://localhost:8080/"
        },
        "id": "f6IBeQEeoyNt",
        "outputId": "bf353ace-14a0-4024-e2ec-3afa285b8453"
      },
      "id": "f6IBeQEeoyNt",
      "execution_count": 46,
      "outputs": [
        {
          "output_type": "execute_result",
          "data": {
            "text/plain": [
              "0.9428571428571428"
            ]
          },
          "metadata": {},
          "execution_count": 46
        }
      ]
    },
    {
      "cell_type": "code",
      "source": [
        "import tensorflow as tf\n",
        "from tensorflow import keras\n",
        "from keras import Sequential\n",
        "from keras.layers import Dense"
      ],
      "metadata": {
        "id": "BlsO01HKo6iO"
      },
      "id": "BlsO01HKo6iO",
      "execution_count": 47,
      "outputs": []
    },
    {
      "cell_type": "code",
      "source": [
        "X_train"
      ],
      "metadata": {
        "colab": {
          "base_uri": "https://localhost:8080/"
        },
        "id": "v6Fwpheqqyg3",
        "outputId": "5d367a36-db93-4c9f-d105-d50cd3d42b8e"
      },
      "id": "v6Fwpheqqyg3",
      "execution_count": 48,
      "outputs": [
        {
          "output_type": "execute_result",
          "data": {
            "text/plain": [
              "array([[0.        , 0.        , 0.        , ..., 0.        , 0.        ,\n",
              "        0.        ],\n",
              "       [0.        , 0.        , 0.        , ..., 0.        , 0.        ,\n",
              "        0.        ],\n",
              "       [0.        , 0.        , 0.        , ..., 0.        , 0.        ,\n",
              "        0.        ],\n",
              "       ...,\n",
              "       [0.        , 0.        , 0.        , ..., 0.        , 0.        ,\n",
              "        0.25432892],\n",
              "       [0.        , 0.        , 0.        , ..., 0.        , 0.3150837 ,\n",
              "        0.        ],\n",
              "       [0.        , 0.        , 0.        , ..., 0.        , 0.        ,\n",
              "        0.29453646]])"
            ]
          },
          "metadata": {},
          "execution_count": 48
        }
      ]
    },
    {
      "cell_type": "code",
      "source": [
        "model = Sequential()\n",
        "\n",
        "model.add(Dense(32, activation=\"relu\", input_dim=100))\n",
        "model.add(Dense(64, activation=\"relu\"))\n",
        "model.add(Dense(128, activation=\"relu\"))\n",
        "\n",
        "model.add(Dense(38, activation=\"softmax\"))"
      ],
      "metadata": {
        "id": "oCgAZzgjpDdi"
      },
      "id": "oCgAZzgjpDdi",
      "execution_count": 49,
      "outputs": []
    },
    {
      "cell_type": "code",
      "source": [
        "model.summary()"
      ],
      "metadata": {
        "colab": {
          "base_uri": "https://localhost:8080/"
        },
        "id": "nstCua4Jpl4e",
        "outputId": "3d144f8f-6534-4301-eedf-490c9abf0855"
      },
      "id": "nstCua4Jpl4e",
      "execution_count": 50,
      "outputs": [
        {
          "output_type": "stream",
          "name": "stdout",
          "text": [
            "Model: \"sequential\"\n",
            "_________________________________________________________________\n",
            " Layer (type)                Output Shape              Param #   \n",
            "=================================================================\n",
            " dense (Dense)               (None, 32)                3232      \n",
            "                                                                 \n",
            " dense_1 (Dense)             (None, 64)                2112      \n",
            "                                                                 \n",
            " dense_2 (Dense)             (None, 128)               8320      \n",
            "                                                                 \n",
            " dense_3 (Dense)             (None, 38)                4902      \n",
            "                                                                 \n",
            "=================================================================\n",
            "Total params: 18566 (72.52 KB)\n",
            "Trainable params: 18566 (72.52 KB)\n",
            "Non-trainable params: 0 (0.00 Byte)\n",
            "_________________________________________________________________\n"
          ]
        }
      ]
    },
    {
      "cell_type": "code",
      "source": [
        "model.compile(optimizer=\"adam\", loss=\"sparse_categorical_crossentropy\", metrics=[\"accuracy\"])"
      ],
      "metadata": {
        "id": "-kpQryKfpnJj"
      },
      "id": "-kpQryKfpnJj",
      "execution_count": 51,
      "outputs": []
    },
    {
      "cell_type": "code",
      "source": [
        "history = model.fit(X_train, y_train, epochs=200, validation_split=0.2 )"
      ],
      "metadata": {
        "colab": {
          "base_uri": "https://localhost:8080/"
        },
        "id": "RVh7mgsOpt3V",
        "outputId": "e0b02e23-64d2-4ceb-8462-56f6d7836780"
      },
      "id": "RVh7mgsOpt3V",
      "execution_count": 52,
      "outputs": [
        {
          "output_type": "stream",
          "name": "stdout",
          "text": [
            "Epoch 1/200\n",
            "4/4 [==============================] - 4s 355ms/step - loss: 3.6023 - accuracy: 0.1560 - val_loss: 3.5539 - val_accuracy: 0.5357\n",
            "Epoch 2/200\n",
            "4/4 [==============================] - 0s 39ms/step - loss: 3.5259 - accuracy: 0.4037 - val_loss: 3.4739 - val_accuracy: 0.5357\n",
            "Epoch 3/200\n",
            "4/4 [==============================] - 0s 37ms/step - loss: 3.4355 - accuracy: 0.4495 - val_loss: 3.3704 - val_accuracy: 0.5357\n",
            "Epoch 4/200\n",
            "4/4 [==============================] - 0s 81ms/step - loss: 3.3182 - accuracy: 0.4679 - val_loss: 3.2329 - val_accuracy: 0.5000\n",
            "Epoch 5/200\n",
            "4/4 [==============================] - 0s 33ms/step - loss: 3.1593 - accuracy: 0.4679 - val_loss: 3.0450 - val_accuracy: 0.5000\n",
            "Epoch 6/200\n",
            "4/4 [==============================] - 0s 48ms/step - loss: 2.9421 - accuracy: 0.4495 - val_loss: 2.7907 - val_accuracy: 0.4286\n",
            "Epoch 7/200\n",
            "4/4 [==============================] - 0s 24ms/step - loss: 2.6435 - accuracy: 0.4128 - val_loss: 2.4571 - val_accuracy: 0.4286\n",
            "Epoch 8/200\n",
            "4/4 [==============================] - 0s 30ms/step - loss: 2.2700 - accuracy: 0.4495 - val_loss: 2.0514 - val_accuracy: 0.4643\n",
            "Epoch 9/200\n",
            "4/4 [==============================] - 0s 41ms/step - loss: 1.8476 - accuracy: 0.4587 - val_loss: 1.6402 - val_accuracy: 0.5714\n",
            "Epoch 10/200\n",
            "4/4 [==============================] - 0s 27ms/step - loss: 1.4805 - accuracy: 0.5046 - val_loss: 1.3192 - val_accuracy: 0.5714\n",
            "Epoch 11/200\n",
            "4/4 [==============================] - 0s 25ms/step - loss: 1.2551 - accuracy: 0.4862 - val_loss: 1.1195 - val_accuracy: 0.5714\n",
            "Epoch 12/200\n",
            "4/4 [==============================] - 0s 26ms/step - loss: 1.1277 - accuracy: 0.4495 - val_loss: 1.0179 - val_accuracy: 0.5714\n",
            "Epoch 13/200\n",
            "4/4 [==============================] - 0s 84ms/step - loss: 1.0356 - accuracy: 0.4312 - val_loss: 0.9520 - val_accuracy: 0.5714\n",
            "Epoch 14/200\n",
            "4/4 [==============================] - 0s 40ms/step - loss: 0.9649 - accuracy: 0.4495 - val_loss: 0.9329 - val_accuracy: 0.6429\n",
            "Epoch 15/200\n",
            "4/4 [==============================] - 0s 46ms/step - loss: 0.9181 - accuracy: 0.6697 - val_loss: 0.9491 - val_accuracy: 0.6786\n",
            "Epoch 16/200\n",
            "4/4 [==============================] - 0s 30ms/step - loss: 0.8849 - accuracy: 0.7982 - val_loss: 0.9313 - val_accuracy: 0.6429\n",
            "Epoch 17/200\n",
            "4/4 [==============================] - 0s 43ms/step - loss: 0.8411 - accuracy: 0.8624 - val_loss: 0.8754 - val_accuracy: 0.7500\n",
            "Epoch 18/200\n",
            "4/4 [==============================] - 0s 27ms/step - loss: 0.7826 - accuracy: 0.8807 - val_loss: 0.8121 - val_accuracy: 0.6786\n",
            "Epoch 19/200\n",
            "4/4 [==============================] - 0s 22ms/step - loss: 0.7243 - accuracy: 0.8349 - val_loss: 0.7644 - val_accuracy: 0.6786\n",
            "Epoch 20/200\n",
            "4/4 [==============================] - 0s 28ms/step - loss: 0.6659 - accuracy: 0.8257 - val_loss: 0.7265 - val_accuracy: 0.7500\n",
            "Epoch 21/200\n",
            "4/4 [==============================] - 0s 25ms/step - loss: 0.5998 - accuracy: 0.8899 - val_loss: 0.7105 - val_accuracy: 0.7500\n",
            "Epoch 22/200\n",
            "4/4 [==============================] - 0s 39ms/step - loss: 0.5420 - accuracy: 0.9266 - val_loss: 0.6836 - val_accuracy: 0.7500\n",
            "Epoch 23/200\n",
            "4/4 [==============================] - 0s 31ms/step - loss: 0.4895 - accuracy: 0.8899 - val_loss: 0.6327 - val_accuracy: 0.7143\n",
            "Epoch 24/200\n",
            "4/4 [==============================] - 0s 24ms/step - loss: 0.4295 - accuracy: 0.9083 - val_loss: 0.5715 - val_accuracy: 0.7500\n",
            "Epoch 25/200\n",
            "4/4 [==============================] - 0s 38ms/step - loss: 0.3744 - accuracy: 0.9358 - val_loss: 0.5273 - val_accuracy: 0.7500\n",
            "Epoch 26/200\n",
            "4/4 [==============================] - 0s 23ms/step - loss: 0.3314 - accuracy: 0.9450 - val_loss: 0.4974 - val_accuracy: 0.7500\n",
            "Epoch 27/200\n",
            "4/4 [==============================] - 0s 23ms/step - loss: 0.2928 - accuracy: 0.9450 - val_loss: 0.4716 - val_accuracy: 0.7500\n",
            "Epoch 28/200\n",
            "4/4 [==============================] - 0s 18ms/step - loss: 0.2537 - accuracy: 0.9450 - val_loss: 0.4508 - val_accuracy: 0.7500\n",
            "Epoch 29/200\n",
            "4/4 [==============================] - 0s 18ms/step - loss: 0.2210 - accuracy: 0.9358 - val_loss: 0.4303 - val_accuracy: 0.7857\n",
            "Epoch 30/200\n",
            "4/4 [==============================] - 0s 25ms/step - loss: 0.1939 - accuracy: 0.9358 - val_loss: 0.4109 - val_accuracy: 0.7857\n",
            "Epoch 31/200\n",
            "4/4 [==============================] - 0s 19ms/step - loss: 0.1715 - accuracy: 0.9358 - val_loss: 0.3949 - val_accuracy: 0.7500\n",
            "Epoch 32/200\n",
            "4/4 [==============================] - 0s 23ms/step - loss: 0.1536 - accuracy: 0.9450 - val_loss: 0.3906 - val_accuracy: 0.7857\n",
            "Epoch 33/200\n",
            "4/4 [==============================] - 0s 31ms/step - loss: 0.1370 - accuracy: 0.9450 - val_loss: 0.3771 - val_accuracy: 0.7857\n",
            "Epoch 34/200\n",
            "4/4 [==============================] - 0s 25ms/step - loss: 0.1207 - accuracy: 0.9541 - val_loss: 0.3597 - val_accuracy: 0.7857\n",
            "Epoch 35/200\n",
            "4/4 [==============================] - 0s 28ms/step - loss: 0.1095 - accuracy: 0.9633 - val_loss: 0.3451 - val_accuracy: 0.8571\n",
            "Epoch 36/200\n",
            "4/4 [==============================] - 0s 27ms/step - loss: 0.1002 - accuracy: 0.9817 - val_loss: 0.3374 - val_accuracy: 0.8571\n",
            "Epoch 37/200\n",
            "4/4 [==============================] - 0s 20ms/step - loss: 0.0888 - accuracy: 0.9817 - val_loss: 0.3338 - val_accuracy: 0.8929\n",
            "Epoch 38/200\n",
            "4/4 [==============================] - 0s 53ms/step - loss: 0.0827 - accuracy: 0.9817 - val_loss: 0.3367 - val_accuracy: 0.8929\n",
            "Epoch 39/200\n",
            "4/4 [==============================] - 0s 21ms/step - loss: 0.0757 - accuracy: 0.9817 - val_loss: 0.3298 - val_accuracy: 0.8929\n",
            "Epoch 40/200\n",
            "4/4 [==============================] - 0s 24ms/step - loss: 0.0695 - accuracy: 0.9817 - val_loss: 0.3271 - val_accuracy: 0.8929\n",
            "Epoch 41/200\n",
            "4/4 [==============================] - 0s 29ms/step - loss: 0.0636 - accuracy: 0.9908 - val_loss: 0.3166 - val_accuracy: 0.8929\n",
            "Epoch 42/200\n",
            "4/4 [==============================] - 0s 40ms/step - loss: 0.0594 - accuracy: 0.9908 - val_loss: 0.3104 - val_accuracy: 0.8929\n",
            "Epoch 43/200\n",
            "4/4 [==============================] - 0s 25ms/step - loss: 0.0553 - accuracy: 0.9908 - val_loss: 0.3120 - val_accuracy: 0.8929\n",
            "Epoch 44/200\n",
            "4/4 [==============================] - 0s 20ms/step - loss: 0.0520 - accuracy: 0.9908 - val_loss: 0.3115 - val_accuracy: 0.8929\n",
            "Epoch 45/200\n",
            "4/4 [==============================] - 0s 36ms/step - loss: 0.0491 - accuracy: 0.9908 - val_loss: 0.3084 - val_accuracy: 0.8929\n",
            "Epoch 46/200\n",
            "4/4 [==============================] - 0s 33ms/step - loss: 0.0458 - accuracy: 0.9908 - val_loss: 0.2993 - val_accuracy: 0.8929\n",
            "Epoch 47/200\n",
            "4/4 [==============================] - 0s 21ms/step - loss: 0.0438 - accuracy: 0.9908 - val_loss: 0.2958 - val_accuracy: 0.8929\n",
            "Epoch 48/200\n",
            "4/4 [==============================] - 0s 28ms/step - loss: 0.0420 - accuracy: 0.9908 - val_loss: 0.2934 - val_accuracy: 0.8929\n",
            "Epoch 49/200\n",
            "4/4 [==============================] - 0s 25ms/step - loss: 0.0412 - accuracy: 0.9908 - val_loss: 0.2899 - val_accuracy: 0.8929\n",
            "Epoch 50/200\n",
            "4/4 [==============================] - 0s 41ms/step - loss: 0.0393 - accuracy: 0.9908 - val_loss: 0.2901 - val_accuracy: 0.8929\n",
            "Epoch 51/200\n",
            "4/4 [==============================] - 0s 35ms/step - loss: 0.0376 - accuracy: 0.9908 - val_loss: 0.2993 - val_accuracy: 0.8929\n",
            "Epoch 52/200\n",
            "4/4 [==============================] - 0s 25ms/step - loss: 0.0373 - accuracy: 0.9908 - val_loss: 0.3092 - val_accuracy: 0.8929\n",
            "Epoch 53/200\n",
            "4/4 [==============================] - 0s 22ms/step - loss: 0.0362 - accuracy: 0.9908 - val_loss: 0.3034 - val_accuracy: 0.8929\n",
            "Epoch 54/200\n",
            "4/4 [==============================] - 0s 19ms/step - loss: 0.0349 - accuracy: 0.9908 - val_loss: 0.2954 - val_accuracy: 0.8929\n",
            "Epoch 55/200\n",
            "4/4 [==============================] - 0s 25ms/step - loss: 0.0341 - accuracy: 0.9908 - val_loss: 0.2915 - val_accuracy: 0.8929\n",
            "Epoch 56/200\n",
            "4/4 [==============================] - 0s 30ms/step - loss: 0.0332 - accuracy: 0.9908 - val_loss: 0.2935 - val_accuracy: 0.8929\n",
            "Epoch 57/200\n",
            "4/4 [==============================] - 0s 27ms/step - loss: 0.0327 - accuracy: 0.9908 - val_loss: 0.2969 - val_accuracy: 0.8929\n",
            "Epoch 58/200\n",
            "4/4 [==============================] - 0s 24ms/step - loss: 0.0319 - accuracy: 0.9908 - val_loss: 0.2973 - val_accuracy: 0.8929\n",
            "Epoch 59/200\n",
            "4/4 [==============================] - 0s 30ms/step - loss: 0.0316 - accuracy: 0.9908 - val_loss: 0.2979 - val_accuracy: 0.8929\n",
            "Epoch 60/200\n",
            "4/4 [==============================] - 0s 59ms/step - loss: 0.0313 - accuracy: 0.9908 - val_loss: 0.2998 - val_accuracy: 0.8929\n",
            "Epoch 61/200\n",
            "4/4 [==============================] - 0s 38ms/step - loss: 0.0305 - accuracy: 0.9908 - val_loss: 0.3057 - val_accuracy: 0.8929\n",
            "Epoch 62/200\n",
            "4/4 [==============================] - 0s 24ms/step - loss: 0.0303 - accuracy: 0.9908 - val_loss: 0.3113 - val_accuracy: 0.8929\n",
            "Epoch 63/200\n",
            "4/4 [==============================] - 0s 23ms/step - loss: 0.0303 - accuracy: 0.9908 - val_loss: 0.3146 - val_accuracy: 0.8929\n",
            "Epoch 64/200\n",
            "4/4 [==============================] - 0s 38ms/step - loss: 0.0295 - accuracy: 0.9908 - val_loss: 0.3125 - val_accuracy: 0.8929\n",
            "Epoch 65/200\n",
            "4/4 [==============================] - 0s 23ms/step - loss: 0.0294 - accuracy: 0.9908 - val_loss: 0.3072 - val_accuracy: 0.8929\n",
            "Epoch 66/200\n",
            "4/4 [==============================] - 0s 38ms/step - loss: 0.0296 - accuracy: 0.9908 - val_loss: 0.3081 - val_accuracy: 0.8929\n",
            "Epoch 67/200\n",
            "4/4 [==============================] - 0s 55ms/step - loss: 0.0296 - accuracy: 0.9908 - val_loss: 0.3275 - val_accuracy: 0.8929\n",
            "Epoch 68/200\n",
            "4/4 [==============================] - 0s 25ms/step - loss: 0.0297 - accuracy: 0.9908 - val_loss: 0.3322 - val_accuracy: 0.8929\n",
            "Epoch 69/200\n",
            "4/4 [==============================] - 0s 28ms/step - loss: 0.0290 - accuracy: 0.9908 - val_loss: 0.3141 - val_accuracy: 0.8929\n",
            "Epoch 70/200\n",
            "4/4 [==============================] - 0s 47ms/step - loss: 0.0279 - accuracy: 0.9908 - val_loss: 0.3086 - val_accuracy: 0.8929\n",
            "Epoch 71/200\n",
            "4/4 [==============================] - 0s 30ms/step - loss: 0.0291 - accuracy: 0.9908 - val_loss: 0.3030 - val_accuracy: 0.8929\n",
            "Epoch 72/200\n",
            "4/4 [==============================] - 0s 27ms/step - loss: 0.0287 - accuracy: 0.9908 - val_loss: 0.3065 - val_accuracy: 0.8929\n",
            "Epoch 73/200\n",
            "4/4 [==============================] - 0s 32ms/step - loss: 0.0283 - accuracy: 0.9908 - val_loss: 0.3115 - val_accuracy: 0.8929\n",
            "Epoch 74/200\n",
            "4/4 [==============================] - 0s 31ms/step - loss: 0.0268 - accuracy: 0.9908 - val_loss: 0.3338 - val_accuracy: 0.8929\n",
            "Epoch 75/200\n",
            "4/4 [==============================] - 0s 27ms/step - loss: 0.0273 - accuracy: 0.9908 - val_loss: 0.3507 - val_accuracy: 0.8929\n",
            "Epoch 76/200\n",
            "4/4 [==============================] - 0s 32ms/step - loss: 0.0280 - accuracy: 0.9908 - val_loss: 0.3531 - val_accuracy: 0.8929\n",
            "Epoch 77/200\n",
            "4/4 [==============================] - 0s 53ms/step - loss: 0.0278 - accuracy: 0.9908 - val_loss: 0.3486 - val_accuracy: 0.8929\n",
            "Epoch 78/200\n",
            "4/4 [==============================] - 0s 79ms/step - loss: 0.0274 - accuracy: 0.9908 - val_loss: 0.3338 - val_accuracy: 0.8929\n",
            "Epoch 79/200\n",
            "4/4 [==============================] - 0s 43ms/step - loss: 0.0268 - accuracy: 0.9908 - val_loss: 0.3261 - val_accuracy: 0.8929\n",
            "Epoch 80/200\n",
            "4/4 [==============================] - 0s 28ms/step - loss: 0.0271 - accuracy: 0.9908 - val_loss: 0.3212 - val_accuracy: 0.8929\n",
            "Epoch 81/200\n",
            "4/4 [==============================] - 0s 29ms/step - loss: 0.0267 - accuracy: 0.9908 - val_loss: 0.3232 - val_accuracy: 0.8929\n",
            "Epoch 82/200\n",
            "4/4 [==============================] - 0s 20ms/step - loss: 0.0272 - accuracy: 0.9908 - val_loss: 0.3260 - val_accuracy: 0.8929\n",
            "Epoch 83/200\n",
            "4/4 [==============================] - 0s 24ms/step - loss: 0.0260 - accuracy: 0.9908 - val_loss: 0.3561 - val_accuracy: 0.8929\n",
            "Epoch 84/200\n",
            "4/4 [==============================] - 0s 24ms/step - loss: 0.0273 - accuracy: 0.9908 - val_loss: 0.3742 - val_accuracy: 0.8929\n",
            "Epoch 85/200\n",
            "4/4 [==============================] - 0s 25ms/step - loss: 0.0283 - accuracy: 0.9908 - val_loss: 0.3540 - val_accuracy: 0.8929\n",
            "Epoch 86/200\n",
            "4/4 [==============================] - 0s 32ms/step - loss: 0.0265 - accuracy: 0.9908 - val_loss: 0.3494 - val_accuracy: 0.8929\n",
            "Epoch 87/200\n",
            "4/4 [==============================] - 0s 28ms/step - loss: 0.0262 - accuracy: 0.9908 - val_loss: 0.3294 - val_accuracy: 0.8929\n",
            "Epoch 88/200\n",
            "4/4 [==============================] - 0s 49ms/step - loss: 0.0274 - accuracy: 0.9908 - val_loss: 0.3191 - val_accuracy: 0.8929\n",
            "Epoch 89/200\n",
            "4/4 [==============================] - 0s 27ms/step - loss: 0.0258 - accuracy: 0.9908 - val_loss: 0.3350 - val_accuracy: 0.8929\n",
            "Epoch 90/200\n",
            "4/4 [==============================] - 0s 23ms/step - loss: 0.0257 - accuracy: 0.9908 - val_loss: 0.3525 - val_accuracy: 0.8929\n",
            "Epoch 91/200\n",
            "4/4 [==============================] - 0s 26ms/step - loss: 0.0271 - accuracy: 0.9908 - val_loss: 0.3652 - val_accuracy: 0.8929\n",
            "Epoch 92/200\n",
            "4/4 [==============================] - 0s 24ms/step - loss: 0.0256 - accuracy: 0.9908 - val_loss: 0.3479 - val_accuracy: 0.8929\n",
            "Epoch 93/200\n",
            "4/4 [==============================] - 0s 19ms/step - loss: 0.0248 - accuracy: 0.9908 - val_loss: 0.3223 - val_accuracy: 0.8929\n",
            "Epoch 94/200\n",
            "4/4 [==============================] - 0s 42ms/step - loss: 0.0264 - accuracy: 0.9908 - val_loss: 0.3096 - val_accuracy: 0.8929\n",
            "Epoch 95/200\n",
            "4/4 [==============================] - 0s 37ms/step - loss: 0.0268 - accuracy: 0.9908 - val_loss: 0.3098 - val_accuracy: 0.8929\n",
            "Epoch 96/200\n",
            "4/4 [==============================] - 0s 58ms/step - loss: 0.0267 - accuracy: 0.9908 - val_loss: 0.3141 - val_accuracy: 0.8929\n",
            "Epoch 97/200\n",
            "4/4 [==============================] - 0s 70ms/step - loss: 0.0261 - accuracy: 0.9908 - val_loss: 0.3231 - val_accuracy: 0.8929\n",
            "Epoch 98/200\n",
            "4/4 [==============================] - 0s 55ms/step - loss: 0.0245 - accuracy: 0.9908 - val_loss: 0.3524 - val_accuracy: 0.8929\n",
            "Epoch 99/200\n",
            "4/4 [==============================] - 0s 60ms/step - loss: 0.0256 - accuracy: 0.9908 - val_loss: 0.3811 - val_accuracy: 0.8929\n",
            "Epoch 100/200\n",
            "4/4 [==============================] - 0s 45ms/step - loss: 0.0264 - accuracy: 0.9908 - val_loss: 0.3866 - val_accuracy: 0.8929\n",
            "Epoch 101/200\n",
            "4/4 [==============================] - 0s 54ms/step - loss: 0.0263 - accuracy: 0.9908 - val_loss: 0.3715 - val_accuracy: 0.8929\n",
            "Epoch 102/200\n",
            "4/4 [==============================] - 0s 27ms/step - loss: 0.0254 - accuracy: 0.9908 - val_loss: 0.3525 - val_accuracy: 0.8929\n",
            "Epoch 103/200\n",
            "4/4 [==============================] - 0s 25ms/step - loss: 0.0246 - accuracy: 0.9908 - val_loss: 0.3316 - val_accuracy: 0.8929\n",
            "Epoch 104/200\n",
            "4/4 [==============================] - 0s 22ms/step - loss: 0.0249 - accuracy: 0.9908 - val_loss: 0.3244 - val_accuracy: 0.8929\n",
            "Epoch 105/200\n",
            "4/4 [==============================] - 0s 22ms/step - loss: 0.0270 - accuracy: 0.9908 - val_loss: 0.3118 - val_accuracy: 0.8929\n",
            "Epoch 106/200\n",
            "4/4 [==============================] - 0s 26ms/step - loss: 0.0264 - accuracy: 0.9908 - val_loss: 0.3163 - val_accuracy: 0.8929\n",
            "Epoch 107/200\n",
            "4/4 [==============================] - 0s 23ms/step - loss: 0.0258 - accuracy: 0.9908 - val_loss: 0.3231 - val_accuracy: 0.8929\n",
            "Epoch 108/200\n",
            "4/4 [==============================] - 0s 19ms/step - loss: 0.0253 - accuracy: 0.9908 - val_loss: 0.3352 - val_accuracy: 0.8929\n",
            "Epoch 109/200\n",
            "4/4 [==============================] - 0s 18ms/step - loss: 0.0249 - accuracy: 0.9908 - val_loss: 0.3468 - val_accuracy: 0.8929\n",
            "Epoch 110/200\n",
            "4/4 [==============================] - 0s 24ms/step - loss: 0.0259 - accuracy: 0.9908 - val_loss: 0.3596 - val_accuracy: 0.8929\n",
            "Epoch 111/200\n",
            "4/4 [==============================] - 0s 24ms/step - loss: 0.0249 - accuracy: 0.9908 - val_loss: 0.3600 - val_accuracy: 0.8929\n",
            "Epoch 112/200\n",
            "4/4 [==============================] - 0s 19ms/step - loss: 0.0245 - accuracy: 0.9908 - val_loss: 0.3500 - val_accuracy: 0.8929\n",
            "Epoch 113/200\n",
            "4/4 [==============================] - 0s 27ms/step - loss: 0.0255 - accuracy: 0.9908 - val_loss: 0.3354 - val_accuracy: 0.8929\n",
            "Epoch 114/200\n",
            "4/4 [==============================] - 0s 20ms/step - loss: 0.0250 - accuracy: 0.9908 - val_loss: 0.3375 - val_accuracy: 0.8929\n",
            "Epoch 115/200\n",
            "4/4 [==============================] - 0s 20ms/step - loss: 0.0251 - accuracy: 0.9908 - val_loss: 0.3434 - val_accuracy: 0.8929\n",
            "Epoch 116/200\n",
            "4/4 [==============================] - 0s 18ms/step - loss: 0.0252 - accuracy: 0.9908 - val_loss: 0.3465 - val_accuracy: 0.8929\n",
            "Epoch 117/200\n",
            "4/4 [==============================] - 0s 24ms/step - loss: 0.0250 - accuracy: 0.9908 - val_loss: 0.3333 - val_accuracy: 0.8929\n",
            "Epoch 118/200\n",
            "4/4 [==============================] - 0s 26ms/step - loss: 0.0250 - accuracy: 0.9908 - val_loss: 0.3320 - val_accuracy: 0.8929\n",
            "Epoch 119/200\n",
            "4/4 [==============================] - 0s 20ms/step - loss: 0.0250 - accuracy: 0.9908 - val_loss: 0.3359 - val_accuracy: 0.8929\n",
            "Epoch 120/200\n",
            "4/4 [==============================] - 0s 13ms/step - loss: 0.0248 - accuracy: 0.9908 - val_loss: 0.3478 - val_accuracy: 0.8929\n",
            "Epoch 121/200\n",
            "4/4 [==============================] - 0s 13ms/step - loss: 0.0245 - accuracy: 0.9908 - val_loss: 0.3577 - val_accuracy: 0.8929\n",
            "Epoch 122/200\n",
            "4/4 [==============================] - 0s 19ms/step - loss: 0.0250 - accuracy: 0.9908 - val_loss: 0.3705 - val_accuracy: 0.8929\n",
            "Epoch 123/200\n",
            "4/4 [==============================] - 0s 12ms/step - loss: 0.0247 - accuracy: 0.9908 - val_loss: 0.3697 - val_accuracy: 0.8929\n",
            "Epoch 124/200\n",
            "4/4 [==============================] - 0s 12ms/step - loss: 0.0244 - accuracy: 0.9908 - val_loss: 0.3670 - val_accuracy: 0.8929\n",
            "Epoch 125/200\n",
            "4/4 [==============================] - 0s 14ms/step - loss: 0.0256 - accuracy: 0.9908 - val_loss: 0.3585 - val_accuracy: 0.8929\n",
            "Epoch 126/200\n",
            "4/4 [==============================] - 0s 13ms/step - loss: 0.0245 - accuracy: 0.9908 - val_loss: 0.3912 - val_accuracy: 0.8929\n",
            "Epoch 127/200\n",
            "4/4 [==============================] - 0s 12ms/step - loss: 0.0248 - accuracy: 0.9908 - val_loss: 0.3993 - val_accuracy: 0.8929\n",
            "Epoch 128/200\n",
            "4/4 [==============================] - 0s 12ms/step - loss: 0.0253 - accuracy: 0.9908 - val_loss: 0.3899 - val_accuracy: 0.8929\n",
            "Epoch 129/200\n",
            "4/4 [==============================] - 0s 14ms/step - loss: 0.0256 - accuracy: 0.9908 - val_loss: 0.3699 - val_accuracy: 0.8929\n",
            "Epoch 130/200\n",
            "4/4 [==============================] - 0s 18ms/step - loss: 0.0244 - accuracy: 0.9908 - val_loss: 0.3657 - val_accuracy: 0.8929\n",
            "Epoch 131/200\n",
            "4/4 [==============================] - 0s 12ms/step - loss: 0.0242 - accuracy: 0.9908 - val_loss: 0.3535 - val_accuracy: 0.8929\n",
            "Epoch 132/200\n",
            "4/4 [==============================] - 0s 13ms/step - loss: 0.0247 - accuracy: 0.9908 - val_loss: 0.3451 - val_accuracy: 0.8929\n",
            "Epoch 133/200\n",
            "4/4 [==============================] - 0s 17ms/step - loss: 0.0248 - accuracy: 0.9908 - val_loss: 0.3430 - val_accuracy: 0.8929\n",
            "Epoch 134/200\n",
            "4/4 [==============================] - 0s 13ms/step - loss: 0.0247 - accuracy: 0.9908 - val_loss: 0.3466 - val_accuracy: 0.8929\n",
            "Epoch 135/200\n",
            "4/4 [==============================] - 0s 12ms/step - loss: 0.0245 - accuracy: 0.9908 - val_loss: 0.3515 - val_accuracy: 0.8929\n",
            "Epoch 136/200\n",
            "4/4 [==============================] - 0s 12ms/step - loss: 0.0245 - accuracy: 0.9908 - val_loss: 0.3466 - val_accuracy: 0.8929\n",
            "Epoch 137/200\n",
            "4/4 [==============================] - 0s 13ms/step - loss: 0.0247 - accuracy: 0.9908 - val_loss: 0.3438 - val_accuracy: 0.8929\n",
            "Epoch 138/200\n",
            "4/4 [==============================] - 0s 12ms/step - loss: 0.0246 - accuracy: 0.9908 - val_loss: 0.3478 - val_accuracy: 0.8929\n",
            "Epoch 139/200\n",
            "4/4 [==============================] - 0s 12ms/step - loss: 0.0243 - accuracy: 0.9908 - val_loss: 0.3485 - val_accuracy: 0.8929\n",
            "Epoch 140/200\n",
            "4/4 [==============================] - 0s 20ms/step - loss: 0.0248 - accuracy: 0.9908 - val_loss: 0.3549 - val_accuracy: 0.8929\n",
            "Epoch 141/200\n",
            "4/4 [==============================] - 0s 18ms/step - loss: 0.0229 - accuracy: 0.9908 - val_loss: 0.3981 - val_accuracy: 0.8929\n",
            "Epoch 142/200\n",
            "4/4 [==============================] - 0s 12ms/step - loss: 0.0278 - accuracy: 0.9908 - val_loss: 0.4709 - val_accuracy: 0.8571\n",
            "Epoch 143/200\n",
            "4/4 [==============================] - 0s 18ms/step - loss: 0.0299 - accuracy: 0.9908 - val_loss: 0.4515 - val_accuracy: 0.8571\n",
            "Epoch 144/200\n",
            "4/4 [==============================] - 0s 13ms/step - loss: 0.0265 - accuracy: 0.9908 - val_loss: 0.4014 - val_accuracy: 0.8929\n",
            "Epoch 145/200\n",
            "4/4 [==============================] - 0s 13ms/step - loss: 0.0231 - accuracy: 0.9908 - val_loss: 0.3636 - val_accuracy: 0.8929\n",
            "Epoch 146/200\n",
            "4/4 [==============================] - 0s 19ms/step - loss: 0.0254 - accuracy: 0.9908 - val_loss: 0.3240 - val_accuracy: 0.8929\n",
            "Epoch 147/200\n",
            "4/4 [==============================] - 0s 13ms/step - loss: 0.0271 - accuracy: 0.9908 - val_loss: 0.3129 - val_accuracy: 0.9286\n",
            "Epoch 148/200\n",
            "4/4 [==============================] - 0s 12ms/step - loss: 0.0273 - accuracy: 0.9908 - val_loss: 0.3184 - val_accuracy: 0.9286\n",
            "Epoch 149/200\n",
            "4/4 [==============================] - 0s 13ms/step - loss: 0.0262 - accuracy: 0.9908 - val_loss: 0.3311 - val_accuracy: 0.8929\n",
            "Epoch 150/200\n",
            "4/4 [==============================] - 0s 13ms/step - loss: 0.0256 - accuracy: 0.9908 - val_loss: 0.3552 - val_accuracy: 0.8929\n",
            "Epoch 151/200\n",
            "4/4 [==============================] - 0s 12ms/step - loss: 0.0246 - accuracy: 0.9908 - val_loss: 0.3736 - val_accuracy: 0.8929\n",
            "Epoch 152/200\n",
            "4/4 [==============================] - 0s 19ms/step - loss: 0.0239 - accuracy: 0.9908 - val_loss: 0.3687 - val_accuracy: 0.8929\n",
            "Epoch 153/200\n",
            "4/4 [==============================] - 0s 12ms/step - loss: 0.0239 - accuracy: 0.9908 - val_loss: 0.3706 - val_accuracy: 0.8929\n",
            "Epoch 154/200\n",
            "4/4 [==============================] - 0s 12ms/step - loss: 0.0238 - accuracy: 0.9908 - val_loss: 0.3701 - val_accuracy: 0.8929\n",
            "Epoch 155/200\n",
            "4/4 [==============================] - 0s 13ms/step - loss: 0.0241 - accuracy: 0.9908 - val_loss: 0.3675 - val_accuracy: 0.8929\n",
            "Epoch 156/200\n",
            "4/4 [==============================] - 0s 13ms/step - loss: 0.0242 - accuracy: 0.9908 - val_loss: 0.3583 - val_accuracy: 0.8929\n",
            "Epoch 157/200\n",
            "4/4 [==============================] - 0s 18ms/step - loss: 0.0243 - accuracy: 0.9908 - val_loss: 0.3525 - val_accuracy: 0.8929\n",
            "Epoch 158/200\n",
            "4/4 [==============================] - 0s 13ms/step - loss: 0.0245 - accuracy: 0.9908 - val_loss: 0.3568 - val_accuracy: 0.8929\n",
            "Epoch 159/200\n",
            "4/4 [==============================] - 0s 14ms/step - loss: 0.0240 - accuracy: 0.9908 - val_loss: 0.3519 - val_accuracy: 0.8929\n",
            "Epoch 160/200\n",
            "4/4 [==============================] - 0s 12ms/step - loss: 0.0252 - accuracy: 0.9908 - val_loss: 0.3516 - val_accuracy: 0.8929\n",
            "Epoch 161/200\n",
            "4/4 [==============================] - 0s 13ms/step - loss: 0.0256 - accuracy: 0.9908 - val_loss: 0.3957 - val_accuracy: 0.8929\n",
            "Epoch 162/200\n",
            "4/4 [==============================] - 0s 13ms/step - loss: 0.0244 - accuracy: 0.9908 - val_loss: 0.4037 - val_accuracy: 0.8929\n",
            "Epoch 163/200\n",
            "4/4 [==============================] - 0s 13ms/step - loss: 0.0260 - accuracy: 0.9908 - val_loss: 0.4468 - val_accuracy: 0.8571\n",
            "Epoch 164/200\n",
            "4/4 [==============================] - 0s 12ms/step - loss: 0.0257 - accuracy: 0.9908 - val_loss: 0.4258 - val_accuracy: 0.8929\n",
            "Epoch 165/200\n",
            "4/4 [==============================] - 0s 13ms/step - loss: 0.0265 - accuracy: 0.9908 - val_loss: 0.3809 - val_accuracy: 0.8929\n",
            "Epoch 166/200\n",
            "4/4 [==============================] - 0s 13ms/step - loss: 0.0241 - accuracy: 0.9908 - val_loss: 0.3620 - val_accuracy: 0.8929\n",
            "Epoch 167/200\n",
            "4/4 [==============================] - 0s 13ms/step - loss: 0.0244 - accuracy: 0.9908 - val_loss: 0.3531 - val_accuracy: 0.8929\n",
            "Epoch 168/200\n",
            "4/4 [==============================] - 0s 13ms/step - loss: 0.0242 - accuracy: 0.9908 - val_loss: 0.3593 - val_accuracy: 0.8929\n",
            "Epoch 169/200\n",
            "4/4 [==============================] - 0s 13ms/step - loss: 0.0244 - accuracy: 0.9908 - val_loss: 0.3668 - val_accuracy: 0.8929\n",
            "Epoch 170/200\n",
            "4/4 [==============================] - 0s 12ms/step - loss: 0.0245 - accuracy: 0.9908 - val_loss: 0.4146 - val_accuracy: 0.8929\n",
            "Epoch 171/200\n",
            "4/4 [==============================] - 0s 12ms/step - loss: 0.0251 - accuracy: 0.9908 - val_loss: 0.4282 - val_accuracy: 0.8929\n",
            "Epoch 172/200\n",
            "4/4 [==============================] - 0s 18ms/step - loss: 0.0251 - accuracy: 0.9908 - val_loss: 0.4166 - val_accuracy: 0.8929\n",
            "Epoch 173/200\n",
            "4/4 [==============================] - 0s 12ms/step - loss: 0.0241 - accuracy: 0.9908 - val_loss: 0.3934 - val_accuracy: 0.8929\n",
            "Epoch 174/200\n",
            "4/4 [==============================] - 0s 12ms/step - loss: 0.0238 - accuracy: 0.9908 - val_loss: 0.3698 - val_accuracy: 0.8929\n",
            "Epoch 175/200\n",
            "4/4 [==============================] - 0s 13ms/step - loss: 0.0237 - accuracy: 0.9908 - val_loss: 0.3625 - val_accuracy: 0.8929\n",
            "Epoch 176/200\n",
            "4/4 [==============================] - 0s 12ms/step - loss: 0.0240 - accuracy: 0.9908 - val_loss: 0.3495 - val_accuracy: 0.8929\n",
            "Epoch 177/200\n",
            "4/4 [==============================] - 0s 12ms/step - loss: 0.0255 - accuracy: 0.9908 - val_loss: 0.3415 - val_accuracy: 0.8929\n",
            "Epoch 178/200\n",
            "4/4 [==============================] - 0s 12ms/step - loss: 0.0249 - accuracy: 0.9908 - val_loss: 0.3531 - val_accuracy: 0.8929\n",
            "Epoch 179/200\n",
            "4/4 [==============================] - 0s 12ms/step - loss: 0.0241 - accuracy: 0.9908 - val_loss: 0.3579 - val_accuracy: 0.8929\n",
            "Epoch 180/200\n",
            "4/4 [==============================] - 0s 12ms/step - loss: 0.0247 - accuracy: 0.9908 - val_loss: 0.3760 - val_accuracy: 0.8929\n",
            "Epoch 181/200\n",
            "4/4 [==============================] - 0s 13ms/step - loss: 0.0238 - accuracy: 0.9908 - val_loss: 0.3749 - val_accuracy: 0.8929\n",
            "Epoch 182/200\n",
            "4/4 [==============================] - 0s 12ms/step - loss: 0.0238 - accuracy: 0.9908 - val_loss: 0.3730 - val_accuracy: 0.8929\n",
            "Epoch 183/200\n",
            "4/4 [==============================] - 0s 12ms/step - loss: 0.0246 - accuracy: 0.9908 - val_loss: 0.3707 - val_accuracy: 0.8929\n",
            "Epoch 184/200\n",
            "4/4 [==============================] - 0s 13ms/step - loss: 0.0234 - accuracy: 0.9908 - val_loss: 0.4055 - val_accuracy: 0.8929\n",
            "Epoch 185/200\n",
            "4/4 [==============================] - 0s 13ms/step - loss: 0.0240 - accuracy: 0.9908 - val_loss: 0.4160 - val_accuracy: 0.8929\n",
            "Epoch 186/200\n",
            "4/4 [==============================] - 0s 12ms/step - loss: 0.0243 - accuracy: 0.9908 - val_loss: 0.4140 - val_accuracy: 0.8929\n",
            "Epoch 187/200\n",
            "4/4 [==============================] - 0s 13ms/step - loss: 0.0245 - accuracy: 0.9908 - val_loss: 0.3920 - val_accuracy: 0.8929\n",
            "Epoch 188/200\n",
            "4/4 [==============================] - 0s 12ms/step - loss: 0.0238 - accuracy: 0.9908 - val_loss: 0.3869 - val_accuracy: 0.8929\n",
            "Epoch 189/200\n",
            "4/4 [==============================] - 0s 15ms/step - loss: 0.0239 - accuracy: 0.9908 - val_loss: 0.3713 - val_accuracy: 0.8929\n",
            "Epoch 190/200\n",
            "4/4 [==============================] - 0s 12ms/step - loss: 0.0240 - accuracy: 0.9908 - val_loss: 0.3629 - val_accuracy: 0.8929\n",
            "Epoch 191/200\n",
            "4/4 [==============================] - 0s 15ms/step - loss: 0.0240 - accuracy: 0.9908 - val_loss: 0.3634 - val_accuracy: 0.8929\n",
            "Epoch 192/200\n",
            "4/4 [==============================] - 0s 13ms/step - loss: 0.0253 - accuracy: 0.9908 - val_loss: 0.3602 - val_accuracy: 0.8929\n",
            "Epoch 193/200\n",
            "4/4 [==============================] - 0s 17ms/step - loss: 0.0245 - accuracy: 0.9908 - val_loss: 0.4124 - val_accuracy: 0.8929\n",
            "Epoch 194/200\n",
            "4/4 [==============================] - 0s 18ms/step - loss: 0.0276 - accuracy: 0.9908 - val_loss: 0.4458 - val_accuracy: 0.8929\n",
            "Epoch 195/200\n",
            "4/4 [==============================] - 0s 14ms/step - loss: 0.0249 - accuracy: 0.9908 - val_loss: 0.3968 - val_accuracy: 0.8929\n",
            "Epoch 196/200\n",
            "4/4 [==============================] - 0s 13ms/step - loss: 0.0238 - accuracy: 0.9908 - val_loss: 0.3663 - val_accuracy: 0.8929\n",
            "Epoch 197/200\n",
            "4/4 [==============================] - 0s 13ms/step - loss: 0.0236 - accuracy: 0.9908 - val_loss: 0.3506 - val_accuracy: 0.8929\n",
            "Epoch 198/200\n",
            "4/4 [==============================] - 0s 13ms/step - loss: 0.0249 - accuracy: 0.9908 - val_loss: 0.3461 - val_accuracy: 0.8929\n",
            "Epoch 199/200\n",
            "4/4 [==============================] - 0s 14ms/step - loss: 0.0252 - accuracy: 0.9908 - val_loss: 0.3543 - val_accuracy: 0.8929\n",
            "Epoch 200/200\n",
            "4/4 [==============================] - 0s 12ms/step - loss: 0.0247 - accuracy: 0.9908 - val_loss: 0.3483 - val_accuracy: 0.8929\n"
          ]
        }
      ]
    },
    {
      "cell_type": "code",
      "source": [
        "import matplotlib.pyplot as plt"
      ],
      "metadata": {
        "id": "pQ-xdN-NuO0x"
      },
      "id": "pQ-xdN-NuO0x",
      "execution_count": 53,
      "outputs": []
    },
    {
      "cell_type": "code",
      "source": [
        "plt.plot(history.history[\"loss\"])\n",
        "plt.plot(history.history[\"val_loss\"])"
      ],
      "metadata": {
        "colab": {
          "base_uri": "https://localhost:8080/",
          "height": 447
        },
        "id": "81zabJeOuYBX",
        "outputId": "d3bfd777-b229-404a-aa16-21929822d5e0"
      },
      "id": "81zabJeOuYBX",
      "execution_count": 54,
      "outputs": [
        {
          "output_type": "execute_result",
          "data": {
            "text/plain": [
              "[<matplotlib.lines.Line2D at 0x7d27bca30ee0>]"
            ]
          },
          "metadata": {},
          "execution_count": 54
        },
        {
          "output_type": "display_data",
          "data": {
            "text/plain": [
              "<Figure size 640x480 with 1 Axes>"
            ],
            "image/png": "[encoded data removed]"
          },
          "metadata": {}
        }
      ]
    },
    {
      "cell_type": "code",
      "source": [
        "plt.plot(history.history[\"accuracy\"])\n",
        "plt.plot(history.history[\"val_accuracy\"])"
      ],
      "metadata": {
        "colab": {
          "base_uri": "https://localhost:8080/",
          "height": 447
        },
        "id": "3O-tXoFjusHR",
        "outputId": "e3b8d950-89e0-464c-ca16-b4d92ffea48d"
      },
      "id": "3O-tXoFjusHR",
      "execution_count": 55,
      "outputs": [
        {
          "output_type": "execute_result",
          "data": {
            "text/plain": [
              "[<matplotlib.lines.Line2D at 0x7d27c4ba2200>]"
            ]
          },
          "metadata": {},
          "execution_count": 55
        },
        {
          "output_type": "display_data",
          "data": {
            "text/plain": [
              "<Figure size 640x480 with 1 Axes>"
            ],
            "image/png": "[encoded data removed]"
          },
          "metadata": {}
        }
      ]
    },
    {
      "cell_type": "code",
      "source": [
        "y_pred = model.predict(X_test)"
      ],
      "metadata": {
        "colab": {
          "base_uri": "https://localhost:8080/"
        },
        "id": "5e-zPAO4qkim",
        "outputId": "472be510-4457-4048-9f13-ce048b52b9d7"
      },
      "id": "5e-zPAO4qkim",
      "execution_count": 56,
      "outputs": [
        {
          "output_type": "stream",
          "name": "stdout",
          "text": [
            "2/2 [==============================] - 0s 5ms/step\n"
          ]
        }
      ]
    },
    {
      "cell_type": "code",
      "source": [
        "test = tfid.transform([\"your name\"])"
      ],
      "metadata": {
        "id": "Mt_b8ZrysUdo"
      },
      "id": "Mt_b8ZrysUdo",
      "execution_count": 57,
      "outputs": []
    },
    {
      "cell_type": "code",
      "source": [
        "test.A"
      ],
      "metadata": {
        "colab": {
          "base_uri": "https://localhost:8080/"
        },
        "id": "YRytVcqKsjxD",
        "outputId": "c4f1819c-5d4d-4d31-834b-62a10c221c27"
      },
      "id": "YRytVcqKsjxD",
      "execution_count": 58,
      "outputs": [
        {
          "output_type": "execute_result",
          "data": {
            "text/plain": [
              "array([[0.        , 0.        , 0.        , 0.        , 0.        ,\n",
              "        0.        , 0.        , 0.        , 0.        , 0.        ,\n",
              "        0.        , 0.        , 0.        , 0.        , 0.        ,\n",
              "        0.        , 0.        , 0.        , 0.        , 0.        ,\n",
              "        0.        , 0.        , 0.        , 0.        , 0.        ,\n",
              "        0.        , 0.        , 0.        , 0.        , 0.        ,\n",
              "        0.        , 0.        , 0.        , 0.        , 0.        ,\n",
              "        0.        , 0.        , 0.        , 0.        , 0.        ,\n",
              "        0.        , 0.        , 0.        , 0.        , 0.        ,\n",
              "        0.        , 0.        , 0.        , 0.        , 0.        ,\n",
              "        0.        , 0.        , 0.        , 0.71385778, 0.        ,\n",
              "        0.        , 0.        , 0.        , 0.        , 0.        ,\n",
              "        0.        , 0.        , 0.        , 0.        , 0.        ,\n",
              "        0.        , 0.        , 0.        , 0.        , 0.        ,\n",
              "        0.        , 0.        , 0.        , 0.        , 0.        ,\n",
              "        0.        , 0.        , 0.        , 0.        , 0.        ,\n",
              "        0.        , 0.        , 0.        , 0.        , 0.        ,\n",
              "        0.        , 0.        , 0.        , 0.        , 0.        ,\n",
              "        0.        , 0.        , 0.        , 0.        , 0.        ,\n",
              "        0.        , 0.        , 0.        , 0.        , 0.70029071]])"
            ]
          },
          "metadata": {},
          "execution_count": 58
        }
      ]
    },
    {
      "cell_type": "code",
      "source": [
        "arr = model.predict(test.A)"
      ],
      "metadata": {
        "colab": {
          "base_uri": "https://localhost:8080/"
        },
        "id": "L9lHqSxNsHAk",
        "outputId": "52c6851c-e1ef-4372-e05d-39742a824350"
      },
      "id": "L9lHqSxNsHAk",
      "execution_count": 59,
      "outputs": [
        {
          "output_type": "stream",
          "name": "stdout",
          "text": [
            "1/1 [==============================] - 0s 20ms/step\n"
          ]
        }
      ]
    },
    {
      "cell_type": "code",
      "source": [
        "arr"
      ],
      "metadata": {
        "colab": {
          "base_uri": "https://localhost:8080/"
        },
        "id": "3vi_3zdosJY2",
        "outputId": "9ab407eb-9546-4481-eb3b-aae6276f43fb"
      },
      "id": "3vi_3zdosJY2",
      "execution_count": 60,
      "outputs": [
        {
          "output_type": "execute_result",
          "data": {
            "text/plain": [
              "array([[4.1274005e-04, 1.2117414e-05, 9.9957246e-01, 5.2814418e-08,\n",
              "        1.0687361e-07, 2.6226646e-08, 2.9232053e-08, 2.0381580e-07,\n",
              "        5.6342607e-08, 1.1954903e-07, 3.1585270e-08, 1.3602268e-07,\n",
              "        1.3873657e-07, 2.6319352e-08, 1.1533156e-07, 2.4930022e-08,\n",
              "        1.7806435e-07, 1.0437379e-07, 1.0084102e-07, 1.8666998e-07,\n",
              "        1.2405077e-07, 4.6169877e-08, 3.9787189e-08, 2.9026139e-09,\n",
              "        8.7815089e-09, 9.2077407e-08, 6.8459144e-08, 2.7319501e-08,\n",
              "        6.0541183e-08, 1.2921492e-08, 9.2532517e-08, 2.7421052e-07,\n",
              "        6.0880573e-08, 1.9769177e-08, 4.1049049e-09, 9.0859672e-08,\n",
              "        2.6056371e-08, 6.4225851e-08]], dtype=float32)"
            ]
          },
          "metadata": {},
          "execution_count": 60
        }
      ]
    },
    {
      "cell_type": "code",
      "source": [
        "arr = arr.reshape(38)"
      ],
      "metadata": {
        "id": "NTlkhXB-sxqS"
      },
      "id": "NTlkhXB-sxqS",
      "execution_count": 61,
      "outputs": []
    },
    {
      "cell_type": "code",
      "source": [
        "arr"
      ],
      "metadata": {
        "colab": {
          "base_uri": "https://localhost:8080/"
        },
        "id": "q4OGd4oAvYmo",
        "outputId": "992ed460-33c1-4a9a-99f1-cb883c2d69ff"
      },
      "id": "q4OGd4oAvYmo",
      "execution_count": 62,
      "outputs": [
        {
          "output_type": "execute_result",
          "data": {
            "text/plain": [
              "array([4.1274005e-04, 1.2117414e-05, 9.9957246e-01, 5.2814418e-08,\n",
              "       1.0687361e-07, 2.6226646e-08, 2.9232053e-08, 2.0381580e-07,\n",
              "       5.6342607e-08, 1.1954903e-07, 3.1585270e-08, 1.3602268e-07,\n",
              "       1.3873657e-07, 2.6319352e-08, 1.1533156e-07, 2.4930022e-08,\n",
              "       1.7806435e-07, 1.0437379e-07, 1.0084102e-07, 1.8666998e-07,\n",
              "       1.2405077e-07, 4.6169877e-08, 3.9787189e-08, 2.9026139e-09,\n",
              "       8.7815089e-09, 9.2077407e-08, 6.8459144e-08, 2.7319501e-08,\n",
              "       6.0541183e-08, 1.2921492e-08, 9.2532517e-08, 2.7421052e-07,\n",
              "       6.0880573e-08, 1.9769177e-08, 4.1049049e-09, 9.0859672e-08,\n",
              "       2.6056371e-08, 6.4225851e-08], dtype=float32)"
            ]
          },
          "metadata": {},
          "execution_count": 62
        }
      ]
    },
    {
      "cell_type": "code",
      "source": [
        "j = 0\n",
        "mx = -1\n",
        "idx = -1\n",
        "for i in arr:\n",
        "  if i > mx:\n",
        "    mx = i\n",
        "    idx = j\n",
        "  j = j + 1"
      ],
      "metadata": {
        "id": "SQmjvWO1vCVv"
      },
      "id": "SQmjvWO1vCVv",
      "execution_count": 63,
      "outputs": []
    },
    {
      "cell_type": "code",
      "source": [
        "idx"
      ],
      "metadata": {
        "colab": {
          "base_uri": "https://localhost:8080/"
        },
        "id": "4qfY6tkjvU4C",
        "outputId": "d6fc220c-aa13-4470-c52a-c829d8c0f5b0"
      },
      "id": "4qfY6tkjvU4C",
      "execution_count": 64,
      "outputs": [
        {
          "output_type": "execute_result",
          "data": {
            "text/plain": [
              "2"
            ]
          },
          "metadata": {},
          "execution_count": 64
        }
      ]
    },
    {
      "cell_type": "code",
      "source": [
        "cls = None\n",
        "for key, value in label_mapping.items():\n",
        "  if value == idx:\n",
        "    cls = key\n",
        "    break"
      ],
      "metadata": {
        "id": "as0X1JmFveZG"
      },
      "id": "as0X1JmFveZG",
      "execution_count": 65,
      "outputs": []
    },
    {
      "cell_type": "code",
      "source": [
        "cls"
      ],
      "metadata": {
        "colab": {
          "base_uri": "https://localhost:8080/",
          "height": 36
        },
        "id": "uYlKeXttwff-",
        "outputId": "a87d1849-0927-4c28-e945-4b9d12c21b5c"
      },
      "id": "uYlKeXttwff-",
      "execution_count": 66,
      "outputs": [
        {
          "output_type": "execute_result",
          "data": {
            "text/plain": [
              "'name'"
            ],
            "application/vnd.google.colaboratory.intrinsic+json": {
              "type": "string"
            }
          },
          "metadata": {},
          "execution_count": 66
        }
      ]
    },
    {
      "cell_type": "code",
      "source": [
        "df1[df1[\"tag\"] == cls][\"responses\"]"
      ],
      "metadata": {
        "colab": {
          "base_uri": "https://localhost:8080/"
        },
        "id": "2ye5CD08xarn",
        "outputId": "5d432916-f12a-4f76-a258-e26b56c2269a"
      },
      "id": "2ye5CD08xarn",
      "execution_count": 67,
      "outputs": [
        {
          "output_type": "execute_result",
          "data": {
            "text/plain": [
              "2    [My name is Nezuko., You can call me Nezuko., ...\n",
              "Name: responses, dtype: object"
            ]
          },
          "metadata": {},
          "execution_count": 67
        }
      ]
    },
    {
      "cell_type": "code",
      "source": [
        "import pandas as pd\n",
        "response = None\n",
        "# Assuming df1 is your DataFrame and cls is the class you're interested in\n",
        "filtered_responses = df1[df1[\"tag\"] == cls][\"responses\"]\n",
        "\n",
        "if not filtered_responses.empty:\n",
        "    first_response = filtered_responses.iloc[0]\n",
        "    response = first_response\n",
        "else:\n",
        "    print(\"No responses found for the specified class.\")"
      ],
      "metadata": {
        "id": "yfYhTudnyTqo"
      },
      "id": "yfYhTudnyTqo",
      "execution_count": 68,
      "outputs": []
    },
    {
      "cell_type": "code",
      "source": [
        "size = len(response)"
      ],
      "metadata": {
        "id": "NI3wCodCwgQG"
      },
      "id": "NI3wCodCwgQG",
      "execution_count": 69,
      "outputs": []
    },
    {
      "cell_type": "code",
      "source": [
        "from numpy import random"
      ],
      "metadata": {
        "id": "HnfkoISLwvNY"
      },
      "id": "HnfkoISLwvNY",
      "execution_count": 70,
      "outputs": []
    },
    {
      "cell_type": "code",
      "source": [
        "rd = np.random.randint(0,size)"
      ],
      "metadata": {
        "id": "xd7Xp3Fhw_pe"
      },
      "id": "xd7Xp3Fhw_pe",
      "execution_count": 71,
      "outputs": []
    },
    {
      "cell_type": "code",
      "source": [
        "lst = response"
      ],
      "metadata": {
        "id": "LfN3Bj7rxC16"
      },
      "id": "LfN3Bj7rxC16",
      "execution_count": 72,
      "outputs": []
    },
    {
      "cell_type": "code",
      "source": [
        "lst[rd]"
      ],
      "metadata": {
        "colab": {
          "base_uri": "https://localhost:8080/",
          "height": 36
        },
        "id": "yja-cfVLxIUu",
        "outputId": "51b8c4ba-d742-4006-8078-fafacd22c562"
      },
      "id": "yja-cfVLxIUu",
      "execution_count": 73,
      "outputs": [
        {
          "output_type": "execute_result",
          "data": {
            "text/plain": [
              "'You can call me Nezuko, pleased to meet you.'"
            ],
            "application/vnd.google.colaboratory.intrinsic+json": {
              "type": "string"
            }
          },
          "metadata": {},
          "execution_count": 73
        }
      ]
    },
    {
      "cell_type": "code",
      "source": [
        "df2"
      ],
      "metadata": {
        "colab": {
          "base_uri": "https://localhost:8080/",
          "height": 143
        },
        "id": "UsiCq6Q02ceJ",
        "outputId": "4a2d4c4b-6a69-4c00-c454-09782af140be"
      },
      "id": "UsiCq6Q02ceJ",
      "execution_count": 74,
      "outputs": [
        {
          "output_type": "execute_result",
          "data": {
            "text/plain": [
              "        tag                                           patterns\n",
              "0  greeting  [Hello, Hi there, Hey, Greetings, Good morning...\n",
              "1   goodbye  [Goodbye, Bye, See you later, Take care, Farew...\n",
              "2      name  [What's your name?, May I ask your name?, Coul..."
            ],
            "text/html": [
              "\n",
              "  <div id=\"df-b6b54456-daf2-491c-94f2-791c0d622f1f\" class=\"colab-df-container\">\n",
              "    <div>\n",
              "<style scoped>\n",
              "    .dataframe tbody tr th:only-of-type {\n",
              "        vertical-align: middle;\n",
              "    }\n",
              "\n",
              "    .dataframe tbody tr th {\n",
              "        vertical-align: top;\n",
              "    }\n",
              "\n",
              "    .dataframe thead th {\n",
              "        text-align: right;\n",
              "    }\n",
              "</style>\n",
              "<table border=\"1\" class=\"dataframe\">\n",
              "  <thead>\n",
              "    <tr style=\"text-align: right;\">\n",
              "      <th></th>\n",
              "      <th>tag</th>\n",
              "      <th>patterns</th>\n",
              "    </tr>\n",
              "  </thead>\n",
              "  <tbody>\n",
              "    <tr>\n",
              "      <th>0</th>\n",
              "      <td>greeting</td>\n",
              "      <td>[Hello, Hi there, Hey, Greetings, Good morning...</td>\n",
              "    </tr>\n",
              "    <tr>\n",
              "      <th>1</th>\n",
              "      <td>goodbye</td>\n",
              "      <td>[Goodbye, Bye, See you later, Take care, Farew...</td>\n",
              "    </tr>\n",
              "    <tr>\n",
              "      <th>2</th>\n",
              "      <td>name</td>\n",
              "      <td>[What's your name?, May I ask your name?, Coul...</td>\n",
              "    </tr>\n",
              "  </tbody>\n",
              "</table>\n",
              "</div>\n",
              "    <div class=\"colab-df-buttons\">\n",
              "\n",
              "  <div class=\"colab-df-container\">\n",
              "    <button class=\"colab-df-convert\" onclick=\"convertToInteractive('df-b6b54456-daf2-491c-94f2-791c0d622f1f')\"\n",
              "            title=\"Convert this dataframe to an interactive table.\"\n",
              "            style=\"display:none;\">\n",
              "\n",
              "  <svg xmlns=\"http://www.w3.org/2000/svg\" height=\"24px\" viewBox=\"0 -960 960 960\">\n",
              "    <path d=\"M120-120v-720h720v720H120Zm60-500h600v-160H180v160Zm220 220h160v-160H400v160Zm0 220h160v-160H400v160ZM180-400h160v-160H180v160Zm440 0h160v-160H620v160ZM180-180h160v-160H180v160Zm440 0h160v-160H620v160Z\"/>\n",
              "  </svg>\n",
              "    </button>\n",
              "\n",
              "  <style>\n",
              "    .colab-df-container {\n",
              "      display:flex;\n",
              "      gap: 12px;\n",
              "    }\n",
              "\n",
              "    .colab-df-convert {\n",
              "      background-color: #E8F0FE;\n",
              "      border: none;\n",
              "      border-radius: 50%;\n",
              "      cursor: pointer;\n",
              "      display: none;\n",
              "      fill: #1967D2;\n",
              "      height: 32px;\n",
              "      padding: 0 0 0 0;\n",
              "      width: 32px;\n",
              "    }\n",
              "\n",
              "    .colab-df-convert:hover {\n",
              "      background-color: #E2EBFA;\n",
              "      box-shadow: 0px 1px 2px rgba(60, 64, 67, 0.3), 0px 1px 3px 1px rgba(60, 64, 67, 0.15);\n",
              "      fill: #174EA6;\n",
              "    }\n",
              "\n",
              "    .colab-df-buttons div {\n",
              "      margin-bottom: 4px;\n",
              "    }\n",
              "\n",
              "    [theme=dark] .colab-df-convert {\n",
              "      background-color: #3B4455;\n",
              "      fill: #D2E3FC;\n",
              "    }\n",
              "\n",
              "    [theme=dark] .colab-df-convert:hover {\n",
              "      background-color: #434B5C;\n",
              "      box-shadow: 0px 1px 3px 1px rgba(0, 0, 0, 0.15);\n",
              "      filter: drop-shadow(0px 1px 2px rgba(0, 0, 0, 0.3));\n",
              "      fill: #FFFFFF;\n",
              "    }\n",
              "  </style>\n",
              "\n",
              "    <script>\n",
              "      const buttonEl =\n",
              "        document.querySelector('#df-b6b54456-daf2-491c-94f2-791c0d622f1f button.colab-df-convert');\n",
              "      buttonEl.style.display =\n",
              "        google.colab.kernel.accessAllowed ? 'block' : 'none';\n",
              "\n",
              "      async function convertToInteractive(key) {\n",
              "        const element = document.querySelector('#df-b6b54456-daf2-491c-94f2-791c0d622f1f');\n",
              "        const dataTable =\n",
              "          await google.colab.kernel.invokeFunction('convertToInteractive',\n",
              "                                                    [key], {});\n",
              "        if (!dataTable) return;\n",
              "\n",
              "        const docLinkHtml = 'Like what you see? Visit the ' +\n",
              "          '<a target=\"_blank\" href=https://colab.research.google.com/notebooks/data_table.ipynb>data table notebook</a>'\n",
              "          + ' to learn more about interactive tables.';\n",
              "        element.innerHTML = '';\n",
              "        dataTable['output_type'] = 'display_data';\n",
              "        await google.colab.output.renderOutput(dataTable, element);\n",
              "        const docLink = document.createElement('div');\n",
              "        docLink.innerHTML = docLinkHtml;\n",
              "        element.appendChild(docLink);\n",
              "      }\n",
              "    </script>\n",
              "  </div>\n",
              "\n",
              "\n",
              "<div id=\"df-84feaadc-a80c-49ba-b1cb-5565f533ccc0\">\n",
              "  <button class=\"colab-df-quickchart\" onclick=\"quickchart('df-84feaadc-a80c-49ba-b1cb-5565f533ccc0')\"\n",
              "            title=\"Suggest charts\"\n",
              "            style=\"display:none;\">\n",
              "\n",
              "<svg xmlns=\"http://www.w3.org/2000/svg\" height=\"24px\"viewBox=\"0 0 24 24\"\n",
              "     width=\"24px\">\n",
              "    <g>\n",
              "        <path d=\"M19 3H5c-1.1 0-2 .9-2 2v14c0 1.1.9 2 2 2h14c1.1 0 2-.9 2-2V5c0-1.1-.9-2-2-2zM9 17H7v-7h2v7zm4 0h-2V7h2v10zm4 0h-2v-4h2v4z\"/>\n",
              "    </g>\n",
              "</svg>\n",
              "  </button>\n",
              "\n",
              "<style>\n",
              "  .colab-df-quickchart {\n",
              "      --bg-color: #E8F0FE;\n",
              "      --fill-color: #1967D2;\n",
              "      --hover-bg-color: #E2EBFA;\n",
              "      --hover-fill-color: #174EA6;\n",
              "      --disabled-fill-color: #AAA;\n",
              "      --disabled-bg-color: #DDD;\n",
              "  }\n",
              "\n",
              "  [theme=dark] .colab-df-quickchart {\n",
              "      --bg-color: #3B4455;\n",
              "      --fill-color: #D2E3FC;\n",
              "      --hover-bg-color: #434B5C;\n",
              "      --hover-fill-color: #FFFFFF;\n",
              "      --disabled-bg-color: #3B4455;\n",
              "      --disabled-fill-color: #666;\n",
              "  }\n",
              "\n",
              "  .colab-df-quickchart {\n",
              "    background-color: var(--bg-color);\n",
              "    border: none;\n",
              "    border-radius: 50%;\n",
              "    cursor: pointer;\n",
              "    display: none;\n",
              "    fill: var(--fill-color);\n",
              "    height: 32px;\n",
              "    padding: 0;\n",
              "    width: 32px;\n",
              "  }\n",
              "\n",
              "  .colab-df-quickchart:hover {\n",
              "    background-color: var(--hover-bg-color);\n",
              "    box-shadow: 0 1px 2px rgba(60, 64, 67, 0.3), 0 1px 3px 1px rgba(60, 64, 67, 0.15);\n",
              "    fill: var(--button-hover-fill-color);\n",
              "  }\n",
              "\n",
              "  .colab-df-quickchart-complete:disabled,\n",
              "  .colab-df-quickchart-complete:disabled:hover {\n",
              "    background-color: var(--disabled-bg-color);\n",
              "    fill: var(--disabled-fill-color);\n",
              "    box-shadow: none;\n",
              "  }\n",
              "\n",
              "  .colab-df-spinner {\n",
              "    border: 2px solid var(--fill-color);\n",
              "    border-color: transparent;\n",
              "    border-bottom-color: var(--fill-color);\n",
              "    animation:\n",
              "      spin 1s steps(1) infinite;\n",
              "  }\n",
              "\n",
              "  @keyframes spin {\n",
              "    0% {\n",
              "      border-color: transparent;\n",
              "      border-bottom-color: var(--fill-color);\n",
              "      border-left-color: var(--fill-color);\n",
              "    }\n",
              "    20% {\n",
              "      border-color: transparent;\n",
              "      border-left-color: var(--fill-color);\n",
              "      border-top-color: var(--fill-color);\n",
              "    }\n",
              "    30% {\n",
              "      border-color: transparent;\n",
              "      border-left-color: var(--fill-color);\n",
              "      border-top-color: var(--fill-color);\n",
              "      border-right-color: var(--fill-color);\n",
              "    }\n",
              "    40% {\n",
              "      border-color: transparent;\n",
              "      border-right-color: var(--fill-color);\n",
              "      border-top-color: var(--fill-color);\n",
              "    }\n",
              "    60% {\n",
              "      border-color: transparent;\n",
              "      border-right-color: var(--fill-color);\n",
              "    }\n",
              "    80% {\n",
              "      border-color: transparent;\n",
              "      border-right-color: var(--fill-color);\n",
              "      border-bottom-color: var(--fill-color);\n",
              "    }\n",
              "    90% {\n",
              "      border-color: transparent;\n",
              "      border-bottom-color: var(--fill-color);\n",
              "    }\n",
              "  }\n",
              "</style>\n",
              "\n",
              "  <script>\n",
              "    async function quickchart(key) {\n",
              "      const quickchartButtonEl =\n",
              "        document.querySelector('#' + key + ' button');\n",
              "      quickchartButtonEl.disabled = true;  // To prevent multiple clicks.\n",
              "      quickchartButtonEl.classList.add('colab-df-spinner');\n",
              "      try {\n",
              "        const charts = await google.colab.kernel.invokeFunction(\n",
              "            'suggestCharts', [key], {});\n",
              "      } catch (error) {\n",
              "        console.error('Error during call to suggestCharts:', error);\n",
              "      }\n",
              "      quickchartButtonEl.classList.remove('colab-df-spinner');\n",
              "      quickchartButtonEl.classList.add('colab-df-quickchart-complete');\n",
              "    }\n",
              "    (() => {\n",
              "      let quickchartButtonEl =\n",
              "        document.querySelector('#df-84feaadc-a80c-49ba-b1cb-5565f533ccc0 button');\n",
              "      quickchartButtonEl.style.display =\n",
              "        google.colab.kernel.accessAllowed ? 'block' : 'none';\n",
              "    })();\n",
              "  </script>\n",
              "</div>\n",
              "    </div>\n",
              "  </div>\n"
            ],
            "application/vnd.google.colaboratory.intrinsic+json": {
              "type": "dataframe",
              "variable_name": "df2",
              "summary": "{\n  \"name\": \"df2\",\n  \"rows\": 3,\n  \"fields\": [\n    {\n      \"column\": \"tag\",\n      \"properties\": {\n        \"dtype\": \"string\",\n        \"num_unique_values\": 3,\n        \"samples\": [\n          \"greeting\",\n          \"goodbye\",\n          \"name\"\n        ],\n        \"semantic_type\": \"\",\n        \"description\": \"\"\n      }\n    },\n    {\n      \"column\": \"patterns\",\n      \"properties\": {\n        \"dtype\": \"object\",\n        \"semantic_type\": \"\",\n        \"description\": \"\"\n      }\n    }\n  ]\n}"
            }
          },
          "metadata": {},
          "execution_count": 74
        }
      ]
    },
    {
      "cell_type": "code",
      "source": [
        "def get_response(input_text):\n",
        "    # Implement your chatbot logic here\n",
        "    # This function should take user input as input_text and return a response\n",
        "    # For demonstration purposes, let's echo back the input text\n",
        "    test = tfid.transform([input_text])\n",
        "    arr = model.predict(test.A)\n",
        "    arr = arr.reshape(38)\n",
        "    j = 0\n",
        "    mx = -1\n",
        "    idx = -1\n",
        "    for i in arr:\n",
        "      if i > mx:\n",
        "        mx = i\n",
        "        idx = j\n",
        "      j = j + 1\n",
        "\n",
        "    cls = None\n",
        "    for key, value in label_mapping.items():\n",
        "      if value == idx:\n",
        "        cls = key\n",
        "        break\n",
        "    response = None\n",
        "    # Assuming df1 is your DataFrame and cls is the class you're interested in\n",
        "    filtered_responses = df1[df1[\"tag\"] == cls][\"responses\"]\n",
        "\n",
        "    if not filtered_responses.empty:\n",
        "        first_response = filtered_responses.iloc[0]\n",
        "        response = first_response\n",
        "    else:\n",
        "        print(\"No responses found for the specified class.\")\n",
        "\n",
        "    size = len(response)\n",
        "    rd = np.random.randint(0,size)\n",
        "    lst = response\n",
        "\n",
        "    return \"Bot: \" + lst[rd]\n",
        "\n",
        "\n",
        "def main():\n",
        "    print(\"Welcome to the Chatbot!\")\n",
        "    print(\"You can start chatting. Type 'exit' to end the conversation.\")\n",
        "\n",
        "    while True:\n",
        "        user_input = input(\"You: \")\n",
        "\n",
        "        if user_input.lower() == 'exit':\n",
        "            print(\"Goodbye!\")\n",
        "            break\n",
        "\n",
        "        bot_response = get_response(user_input)\n",
        "        print(bot_response)\n",
        "\n",
        "\n",
        "if __name__ == \"__main__\":\n",
        "    main()\n"
      ],
      "metadata": {
        "colab": {
          "base_uri": "https://localhost:8080/"
        },
        "id": "cMe5-UVfxJOP",
        "outputId": "e0830175-9d1e-490c-ba9a-19edceaae924"
      },
      "id": "cMe5-UVfxJOP",
      "execution_count": null,
      "outputs": [
        {
          "output_type": "stream",
          "name": "stdout",
          "text": [
            "Welcome to the Chatbot!\n",
            "You can start chatting. Type 'exit' to end the conversation.\n"
          ]
        }
      ]
    },
    {
      "cell_type": "code",
      "source": [],
      "metadata": {
        "id": "IwqjFxxZyzUr"
      },
      "id": "IwqjFxxZyzUr",
      "execution_count": null,
      "outputs": []
    }
  ],
  "metadata": {
    "kernelspec": {
      "display_name": "Python 3 (ipykernel)",
      "language": "python",
      "name": "python3"
    },
    "language_info": {
      "codemirror_mode": {
        "name": "ipython",
        "version": 3
      },
      "file_extension": ".py",
      "mimetype": "text/x-python",
      "name": "python",
      "nbconvert_exporter": "python",
      "pygments_lexer": "ipython3",
      "version": "3.12.1"
    },
    "colab": {
      "provenance": []
    }
  },
  "nbformat": 4,
  "nbformat_minor": 5
}